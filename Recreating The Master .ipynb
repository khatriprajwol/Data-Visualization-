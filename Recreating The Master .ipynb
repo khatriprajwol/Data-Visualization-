{
  "nbformat": 4,
  "nbformat_minor": 0,
  "metadata": {
    "colab": {
      "name": "Untitled37.ipynb",
      "provenance": [],
      "collapsed_sections": [],
      "mount_file_id": "https://github.com/khatriprajwol/Data-Visualization-/blob/main/Recreating%20The%20Master%20.ipynb",
      "authorship_tag": "ABX9TyOlS1WwNTD/o04z8+Vn+1aL",
      "include_colab_link": true
    },
    "kernelspec": {
      "name": "python3",
      "display_name": "Python 3"
    },
    "language_info": {
      "name": "python"
    }
  },
  "cells": [
    {
      "cell_type": "markdown",
      "metadata": {
        "id": "view-in-github",
        "colab_type": "text"
      },
      "source": [
        "<a href=\"https://colab.research.google.com/github/khatriprajwol/Data-Visualization-/blob/main/Recreating%20The%20Master%20.ipynb\" target=\"_parent\"><img src=\"https://colab.research.google.com/assets/colab-badge.svg\" alt=\"Open In Colab\"/></a>"
      ]
    },
    {
      "cell_type": "markdown",
      "source": [
        "#**TOP 20 MOST VALUABLE SOCCER TEAMS(2016)**\n",
        "#**Project: Recreating the Master**\n",
        "#**Prajwol Khatri**\n",
        "\n",
        "\n",
        "\n",
        "\n",
        "Here I would lke to present you one of my favorite topic again which is related to sport. In this project it focuses on top twenty most valuable soccer team over the year and how it changed. However, I will be recreting only one of it. Well, recreating masters work will not be easy but I will try my best. "
      ],
      "metadata": {
        "id": "pOe1PcL_S_ke"
      }
    },
    {
      "cell_type": "markdown",
      "source": [
        "![Picture1](https://www.adifferentleague.co.uk/wp-content/uploads/2016/05/juve-forbes2.jpg)\n"
      ],
      "metadata": {
        "id": "O_H8i4TCW6-S"
      }
    },
    {
      "cell_type": "markdown",
      "source": [
        "The above visualization is from 2016 but I would like to create similar master piece with a current data. In order to make similar visualization I will need the name of a club and its information. I tried to search data through **ESPN** but I could not find it. Therefore my alternative option was [wikipedia](https://en.wikipedia.org/wiki/Forbes%27_list_of_the_most_valuable_football_clubs).\n",
        "\n"
      ],
      "metadata": {
        "id": "S-nVj_LtXB20"
      }
    },
    {
      "cell_type": "markdown",
      "source": [
        "#**Libraries Used**"
      ],
      "metadata": {
        "id": "KVcKM7GLWD0m"
      }
    },
    {
      "cell_type": "code",
      "execution_count": 254,
      "metadata": {
        "id": "F8s6sFCDS66h"
      },
      "outputs": [],
      "source": [
        "import numpy as np #a matrix like package for handling data\n",
        "import pandas as pa #a R like package for handling data\n",
        "from scipy import stats #a way to just get a piece of a large package\n",
        "import matplotlib.pyplot as plt #a way to generate plots, histograms, bar charts, and other types of charts \n",
        "import seaborn as sns #it is based on matplotlib\n",
        "import requests #HTTP library\n",
        "import pandas as pd # used to manipulate data and analyze it\n",
        "from bs4 import BeautifulSoup #Used for a web scraping purposes to pull the data out of HTML and XML files\n",
        "import re #Used for regular expression in Python.\n"
      ]
    },
    {
      "cell_type": "markdown",
      "source": [
        "#**Panda as a Dataframe**"
      ],
      "metadata": {
        "id": "hRkebZRzUx_q"
      }
    },
    {
      "cell_type": "code",
      "source": [
        "r = requests.get('https://en.wikipedia.org/wiki/Forbes%27_list_of_the_most_valuable_football_clubs')\n",
        "html_contents = r.text\n",
        "html_soup = BeautifulSoup(html_contents,\"lxml\")\n",
        "len(html_soup.find_all('table'))"
      ],
      "metadata": {
        "colab": {
          "base_uri": "https://localhost:8080/"
        },
        "id": "13RdZja-Udy9",
        "outputId": "ba1e8a14-df00-4998-ce3a-83fb521d4f55"
      },
      "execution_count": 255,
      "outputs": [
        {
          "output_type": "execute_result",
          "data": {
            "text/plain": [
              "17"
            ]
          },
          "metadata": {},
          "execution_count": 255
        }
      ]
    },
    {
      "cell_type": "markdown",
      "source": [
        "#**Table**"
      ],
      "metadata": {
        "id": "S3S--l_TWbgA"
      }
    },
    {
      "cell_type": "code",
      "source": [
        "tables = html_soup.find_all('table')\n",
        "\n",
        "df = pa.read_html(str(tables))[5]\n",
        "df"
      ],
      "metadata": {
        "colab": {
          "base_uri": "https://localhost:8080/",
          "height": 676
        },
        "id": "Q1WtoVYdUsz_",
        "outputId": "743c3a35-75c8-4626-80e4-3b20647dbacc"
      },
      "execution_count": 256,
      "outputs": [
        {
          "output_type": "execute_result",
          "data": {
            "text/plain": [
              "    Rank                 Team  Country  Value ($M)[10]  Debt as% of value[8]  \\\n",
              "0      1          Real Madrid    Spain            3645                     3   \n",
              "1      2            Barcelona    Spain            3549                     2   \n",
              "2      3    Manchester United  England            3317                    20   \n",
              "3      4        Bayern Munich  Germany            2678                     0   \n",
              "4      5              Arsenal  England            2017                    17   \n",
              "5      6      Manchester City  England            1921                     0   \n",
              "6      7              Chelsea  England            1661                     0   \n",
              "7      8            Liverpool  England            1548                     5   \n",
              "8      9             Juventus    Italy            1299                     4   \n",
              "9     10    Tottenham Hotspur  England            1017                     2   \n",
              "10    11    Borussia Dortmund  Germany             836                     0   \n",
              "11    12                Milan    Italy             825                    32   \n",
              "12    13  Paris Saint-Germain   France             814                     0   \n",
              "13    14           Schalke 04  Germany             655                    21   \n",
              "14    15      Atlético Madrid    Spain             633                    22   \n",
              "15    16       Internazionale    Italy             559                    43   \n",
              "16    17      West Ham United  England             542                     6   \n",
              "17    18                 Roma    Italy             508                    36   \n",
              "18    19               Napoli    Italy             396                     0   \n",
              "19    20     Newcastle United  England             383                     0   \n",
              "\n",
              "    % changeon year  Revenue ($M)  \n",
              "0              12.0           694  \n",
              "1              12.0           675  \n",
              "2               7.0           625  \n",
              "3              14.0           570  \n",
              "4              54.0           524  \n",
              "5              40.0           558  \n",
              "6              21.0           505  \n",
              "7              58.0           471  \n",
              "8              55.0           390  \n",
              "9              69.0           310  \n",
              "10             19.0           338  \n",
              "11              6.0           240  \n",
              "12             28.0           578  \n",
              "13             15.0           264  \n",
              "14             45.0           225  \n",
              "15             27.0           198  \n",
              "16             76.0           194  \n",
              "17              NaN           217  \n",
              "18             12.0           151  \n",
              "19             10.0           104  "
            ],
            "text/html": [
              "\n",
              "  <div id=\"df-478140fd-1019-4342-8fcb-67235b690870\">\n",
              "    <div class=\"colab-df-container\">\n",
              "      <div>\n",
              "<style scoped>\n",
              "    .dataframe tbody tr th:only-of-type {\n",
              "        vertical-align: middle;\n",
              "    }\n",
              "\n",
              "    .dataframe tbody tr th {\n",
              "        vertical-align: top;\n",
              "    }\n",
              "\n",
              "    .dataframe thead th {\n",
              "        text-align: right;\n",
              "    }\n",
              "</style>\n",
              "<table border=\"1\" class=\"dataframe\">\n",
              "  <thead>\n",
              "    <tr style=\"text-align: right;\">\n",
              "      <th></th>\n",
              "      <th>Rank</th>\n",
              "      <th>Team</th>\n",
              "      <th>Country</th>\n",
              "      <th>Value ($M)[10]</th>\n",
              "      <th>Debt as% of value[8]</th>\n",
              "      <th>% changeon year</th>\n",
              "      <th>Revenue ($M)</th>\n",
              "    </tr>\n",
              "  </thead>\n",
              "  <tbody>\n",
              "    <tr>\n",
              "      <th>0</th>\n",
              "      <td>1</td>\n",
              "      <td>Real Madrid</td>\n",
              "      <td>Spain</td>\n",
              "      <td>3645</td>\n",
              "      <td>3</td>\n",
              "      <td>12.0</td>\n",
              "      <td>694</td>\n",
              "    </tr>\n",
              "    <tr>\n",
              "      <th>1</th>\n",
              "      <td>2</td>\n",
              "      <td>Barcelona</td>\n",
              "      <td>Spain</td>\n",
              "      <td>3549</td>\n",
              "      <td>2</td>\n",
              "      <td>12.0</td>\n",
              "      <td>675</td>\n",
              "    </tr>\n",
              "    <tr>\n",
              "      <th>2</th>\n",
              "      <td>3</td>\n",
              "      <td>Manchester United</td>\n",
              "      <td>England</td>\n",
              "      <td>3317</td>\n",
              "      <td>20</td>\n",
              "      <td>7.0</td>\n",
              "      <td>625</td>\n",
              "    </tr>\n",
              "    <tr>\n",
              "      <th>3</th>\n",
              "      <td>4</td>\n",
              "      <td>Bayern Munich</td>\n",
              "      <td>Germany</td>\n",
              "      <td>2678</td>\n",
              "      <td>0</td>\n",
              "      <td>14.0</td>\n",
              "      <td>570</td>\n",
              "    </tr>\n",
              "    <tr>\n",
              "      <th>4</th>\n",
              "      <td>5</td>\n",
              "      <td>Arsenal</td>\n",
              "      <td>England</td>\n",
              "      <td>2017</td>\n",
              "      <td>17</td>\n",
              "      <td>54.0</td>\n",
              "      <td>524</td>\n",
              "    </tr>\n",
              "    <tr>\n",
              "      <th>5</th>\n",
              "      <td>6</td>\n",
              "      <td>Manchester City</td>\n",
              "      <td>England</td>\n",
              "      <td>1921</td>\n",
              "      <td>0</td>\n",
              "      <td>40.0</td>\n",
              "      <td>558</td>\n",
              "    </tr>\n",
              "    <tr>\n",
              "      <th>6</th>\n",
              "      <td>7</td>\n",
              "      <td>Chelsea</td>\n",
              "      <td>England</td>\n",
              "      <td>1661</td>\n",
              "      <td>0</td>\n",
              "      <td>21.0</td>\n",
              "      <td>505</td>\n",
              "    </tr>\n",
              "    <tr>\n",
              "      <th>7</th>\n",
              "      <td>8</td>\n",
              "      <td>Liverpool</td>\n",
              "      <td>England</td>\n",
              "      <td>1548</td>\n",
              "      <td>5</td>\n",
              "      <td>58.0</td>\n",
              "      <td>471</td>\n",
              "    </tr>\n",
              "    <tr>\n",
              "      <th>8</th>\n",
              "      <td>9</td>\n",
              "      <td>Juventus</td>\n",
              "      <td>Italy</td>\n",
              "      <td>1299</td>\n",
              "      <td>4</td>\n",
              "      <td>55.0</td>\n",
              "      <td>390</td>\n",
              "    </tr>\n",
              "    <tr>\n",
              "      <th>9</th>\n",
              "      <td>10</td>\n",
              "      <td>Tottenham Hotspur</td>\n",
              "      <td>England</td>\n",
              "      <td>1017</td>\n",
              "      <td>2</td>\n",
              "      <td>69.0</td>\n",
              "      <td>310</td>\n",
              "    </tr>\n",
              "    <tr>\n",
              "      <th>10</th>\n",
              "      <td>11</td>\n",
              "      <td>Borussia Dortmund</td>\n",
              "      <td>Germany</td>\n",
              "      <td>836</td>\n",
              "      <td>0</td>\n",
              "      <td>19.0</td>\n",
              "      <td>338</td>\n",
              "    </tr>\n",
              "    <tr>\n",
              "      <th>11</th>\n",
              "      <td>12</td>\n",
              "      <td>Milan</td>\n",
              "      <td>Italy</td>\n",
              "      <td>825</td>\n",
              "      <td>32</td>\n",
              "      <td>6.0</td>\n",
              "      <td>240</td>\n",
              "    </tr>\n",
              "    <tr>\n",
              "      <th>12</th>\n",
              "      <td>13</td>\n",
              "      <td>Paris Saint-Germain</td>\n",
              "      <td>France</td>\n",
              "      <td>814</td>\n",
              "      <td>0</td>\n",
              "      <td>28.0</td>\n",
              "      <td>578</td>\n",
              "    </tr>\n",
              "    <tr>\n",
              "      <th>13</th>\n",
              "      <td>14</td>\n",
              "      <td>Schalke 04</td>\n",
              "      <td>Germany</td>\n",
              "      <td>655</td>\n",
              "      <td>21</td>\n",
              "      <td>15.0</td>\n",
              "      <td>264</td>\n",
              "    </tr>\n",
              "    <tr>\n",
              "      <th>14</th>\n",
              "      <td>15</td>\n",
              "      <td>Atlético Madrid</td>\n",
              "      <td>Spain</td>\n",
              "      <td>633</td>\n",
              "      <td>22</td>\n",
              "      <td>45.0</td>\n",
              "      <td>225</td>\n",
              "    </tr>\n",
              "    <tr>\n",
              "      <th>15</th>\n",
              "      <td>16</td>\n",
              "      <td>Internazionale</td>\n",
              "      <td>Italy</td>\n",
              "      <td>559</td>\n",
              "      <td>43</td>\n",
              "      <td>27.0</td>\n",
              "      <td>198</td>\n",
              "    </tr>\n",
              "    <tr>\n",
              "      <th>16</th>\n",
              "      <td>17</td>\n",
              "      <td>West Ham United</td>\n",
              "      <td>England</td>\n",
              "      <td>542</td>\n",
              "      <td>6</td>\n",
              "      <td>76.0</td>\n",
              "      <td>194</td>\n",
              "    </tr>\n",
              "    <tr>\n",
              "      <th>17</th>\n",
              "      <td>18</td>\n",
              "      <td>Roma</td>\n",
              "      <td>Italy</td>\n",
              "      <td>508</td>\n",
              "      <td>36</td>\n",
              "      <td>NaN</td>\n",
              "      <td>217</td>\n",
              "    </tr>\n",
              "    <tr>\n",
              "      <th>18</th>\n",
              "      <td>19</td>\n",
              "      <td>Napoli</td>\n",
              "      <td>Italy</td>\n",
              "      <td>396</td>\n",
              "      <td>0</td>\n",
              "      <td>12.0</td>\n",
              "      <td>151</td>\n",
              "    </tr>\n",
              "    <tr>\n",
              "      <th>19</th>\n",
              "      <td>20</td>\n",
              "      <td>Newcastle United</td>\n",
              "      <td>England</td>\n",
              "      <td>383</td>\n",
              "      <td>0</td>\n",
              "      <td>10.0</td>\n",
              "      <td>104</td>\n",
              "    </tr>\n",
              "  </tbody>\n",
              "</table>\n",
              "</div>\n",
              "      <button class=\"colab-df-convert\" onclick=\"convertToInteractive('df-478140fd-1019-4342-8fcb-67235b690870')\"\n",
              "              title=\"Convert this dataframe to an interactive table.\"\n",
              "              style=\"display:none;\">\n",
              "        \n",
              "  <svg xmlns=\"http://www.w3.org/2000/svg\" height=\"24px\"viewBox=\"0 0 24 24\"\n",
              "       width=\"24px\">\n",
              "    <path d=\"M0 0h24v24H0V0z\" fill=\"none\"/>\n",
              "    <path d=\"M18.56 5.44l.94 2.06.94-2.06 2.06-.94-2.06-.94-.94-2.06-.94 2.06-2.06.94zm-11 1L8.5 8.5l.94-2.06 2.06-.94-2.06-.94L8.5 2.5l-.94 2.06-2.06.94zm10 10l.94 2.06.94-2.06 2.06-.94-2.06-.94-.94-2.06-.94 2.06-2.06.94z\"/><path d=\"M17.41 7.96l-1.37-1.37c-.4-.4-.92-.59-1.43-.59-.52 0-1.04.2-1.43.59L10.3 9.45l-7.72 7.72c-.78.78-.78 2.05 0 2.83L4 21.41c.39.39.9.59 1.41.59.51 0 1.02-.2 1.41-.59l7.78-7.78 2.81-2.81c.8-.78.8-2.07 0-2.86zM5.41 20L4 18.59l7.72-7.72 1.47 1.35L5.41 20z\"/>\n",
              "  </svg>\n",
              "      </button>\n",
              "      \n",
              "  <style>\n",
              "    .colab-df-container {\n",
              "      display:flex;\n",
              "      flex-wrap:wrap;\n",
              "      gap: 12px;\n",
              "    }\n",
              "\n",
              "    .colab-df-convert {\n",
              "      background-color: #E8F0FE;\n",
              "      border: none;\n",
              "      border-radius: 50%;\n",
              "      cursor: pointer;\n",
              "      display: none;\n",
              "      fill: #1967D2;\n",
              "      height: 32px;\n",
              "      padding: 0 0 0 0;\n",
              "      width: 32px;\n",
              "    }\n",
              "\n",
              "    .colab-df-convert:hover {\n",
              "      background-color: #E2EBFA;\n",
              "      box-shadow: 0px 1px 2px rgba(60, 64, 67, 0.3), 0px 1px 3px 1px rgba(60, 64, 67, 0.15);\n",
              "      fill: #174EA6;\n",
              "    }\n",
              "\n",
              "    [theme=dark] .colab-df-convert {\n",
              "      background-color: #3B4455;\n",
              "      fill: #D2E3FC;\n",
              "    }\n",
              "\n",
              "    [theme=dark] .colab-df-convert:hover {\n",
              "      background-color: #434B5C;\n",
              "      box-shadow: 0px 1px 3px 1px rgba(0, 0, 0, 0.15);\n",
              "      filter: drop-shadow(0px 1px 2px rgba(0, 0, 0, 0.3));\n",
              "      fill: #FFFFFF;\n",
              "    }\n",
              "  </style>\n",
              "\n",
              "      <script>\n",
              "        const buttonEl =\n",
              "          document.querySelector('#df-478140fd-1019-4342-8fcb-67235b690870 button.colab-df-convert');\n",
              "        buttonEl.style.display =\n",
              "          google.colab.kernel.accessAllowed ? 'block' : 'none';\n",
              "\n",
              "        async function convertToInteractive(key) {\n",
              "          const element = document.querySelector('#df-478140fd-1019-4342-8fcb-67235b690870');\n",
              "          const dataTable =\n",
              "            await google.colab.kernel.invokeFunction('convertToInteractive',\n",
              "                                                     [key], {});\n",
              "          if (!dataTable) return;\n",
              "\n",
              "          const docLinkHtml = 'Like what you see? Visit the ' +\n",
              "            '<a target=\"_blank\" href=https://colab.research.google.com/notebooks/data_table.ipynb>data table notebook</a>'\n",
              "            + ' to learn more about interactive tables.';\n",
              "          element.innerHTML = '';\n",
              "          dataTable['output_type'] = 'display_data';\n",
              "          await google.colab.output.renderOutput(dataTable, element);\n",
              "          const docLink = document.createElement('div');\n",
              "          docLink.innerHTML = docLinkHtml;\n",
              "          element.appendChild(docLink);\n",
              "        }\n",
              "      </script>\n",
              "    </div>\n",
              "  </div>\n",
              "  "
            ]
          },
          "metadata": {},
          "execution_count": 256
        }
      ]
    },
    {
      "cell_type": "markdown",
      "source": [
        "It is not a big data set but a perfect for me to recreate the above visualization. \n",
        "[link](https://github.com/nurfnick/Data_Viz/blob/main/RecreatingMasters.ipynb) Here, I am going to need to do lot of cleaning for the columns. \n"
      ],
      "metadata": {
        "id": "4A5xHfadV-23"
      }
    },
    {
      "cell_type": "markdown",
      "source": [
        "#Table Information"
      ],
      "metadata": {
        "id": "oQls6az1Einx"
      }
    },
    {
      "cell_type": "code",
      "source": [
        "df.info()"
      ],
      "metadata": {
        "id": "trPIz2vNSVb-",
        "outputId": "b058e7b0-dfd0-4ac2-aa7a-937fe4afa7c5",
        "colab": {
          "base_uri": "https://localhost:8080/"
        }
      },
      "execution_count": 257,
      "outputs": [
        {
          "output_type": "stream",
          "name": "stdout",
          "text": [
            "<class 'pandas.core.frame.DataFrame'>\n",
            "RangeIndex: 20 entries, 0 to 19\n",
            "Data columns (total 7 columns):\n",
            " #   Column                Non-Null Count  Dtype  \n",
            "---  ------                --------------  -----  \n",
            " 0   Rank                  20 non-null     int64  \n",
            " 1   Team                  20 non-null     object \n",
            " 2   Country               20 non-null     object \n",
            " 3   Value ($M)[10]        20 non-null     int64  \n",
            " 4   Debt as% of value[8]  20 non-null     int64  \n",
            " 5   % changeon year       19 non-null     float64\n",
            " 6   Revenue ($M)          20 non-null     int64  \n",
            "dtypes: float64(1), int64(4), object(2)\n",
            "memory usage: 1.2+ KB\n"
          ]
        }
      ]
    },
    {
      "cell_type": "markdown",
      "source": [
        "The command **df.info()** helps me find **dtype**. There are four integer data, two object and one float. Also, I need to do lot of cleanings of my columns. You can see there are extra information which will make my visualization less effective."
      ],
      "metadata": {
        "id": "_yUZgkWYTf25"
      }
    },
    {
      "cell_type": "markdown",
      "source": [
        "#Is there any empty columns or rows?"
      ],
      "metadata": {
        "id": "XkQKioskEvHh"
      }
    },
    {
      "cell_type": "code",
      "source": [
        "df.isnull()"
      ],
      "metadata": {
        "id": "kbbHFX8VJh37",
        "outputId": "5b3f5889-4578-4656-8fbd-2a406406560a",
        "colab": {
          "base_uri": "https://localhost:8080/",
          "height": 676
        }
      },
      "execution_count": 258,
      "outputs": [
        {
          "output_type": "execute_result",
          "data": {
            "text/plain": [
              "     Rank   Team  Country  Value ($M)[10]  Debt as% of value[8]  \\\n",
              "0   False  False    False           False                 False   \n",
              "1   False  False    False           False                 False   \n",
              "2   False  False    False           False                 False   \n",
              "3   False  False    False           False                 False   \n",
              "4   False  False    False           False                 False   \n",
              "5   False  False    False           False                 False   \n",
              "6   False  False    False           False                 False   \n",
              "7   False  False    False           False                 False   \n",
              "8   False  False    False           False                 False   \n",
              "9   False  False    False           False                 False   \n",
              "10  False  False    False           False                 False   \n",
              "11  False  False    False           False                 False   \n",
              "12  False  False    False           False                 False   \n",
              "13  False  False    False           False                 False   \n",
              "14  False  False    False           False                 False   \n",
              "15  False  False    False           False                 False   \n",
              "16  False  False    False           False                 False   \n",
              "17  False  False    False           False                 False   \n",
              "18  False  False    False           False                 False   \n",
              "19  False  False    False           False                 False   \n",
              "\n",
              "    % changeon year  Revenue ($M)  \n",
              "0             False         False  \n",
              "1             False         False  \n",
              "2             False         False  \n",
              "3             False         False  \n",
              "4             False         False  \n",
              "5             False         False  \n",
              "6             False         False  \n",
              "7             False         False  \n",
              "8             False         False  \n",
              "9             False         False  \n",
              "10            False         False  \n",
              "11            False         False  \n",
              "12            False         False  \n",
              "13            False         False  \n",
              "14            False         False  \n",
              "15            False         False  \n",
              "16            False         False  \n",
              "17             True         False  \n",
              "18            False         False  \n",
              "19            False         False  "
            ],
            "text/html": [
              "\n",
              "  <div id=\"df-03d611c5-dd06-4323-9c21-1da01cc1a1b7\">\n",
              "    <div class=\"colab-df-container\">\n",
              "      <div>\n",
              "<style scoped>\n",
              "    .dataframe tbody tr th:only-of-type {\n",
              "        vertical-align: middle;\n",
              "    }\n",
              "\n",
              "    .dataframe tbody tr th {\n",
              "        vertical-align: top;\n",
              "    }\n",
              "\n",
              "    .dataframe thead th {\n",
              "        text-align: right;\n",
              "    }\n",
              "</style>\n",
              "<table border=\"1\" class=\"dataframe\">\n",
              "  <thead>\n",
              "    <tr style=\"text-align: right;\">\n",
              "      <th></th>\n",
              "      <th>Rank</th>\n",
              "      <th>Team</th>\n",
              "      <th>Country</th>\n",
              "      <th>Value ($M)[10]</th>\n",
              "      <th>Debt as% of value[8]</th>\n",
              "      <th>% changeon year</th>\n",
              "      <th>Revenue ($M)</th>\n",
              "    </tr>\n",
              "  </thead>\n",
              "  <tbody>\n",
              "    <tr>\n",
              "      <th>0</th>\n",
              "      <td>False</td>\n",
              "      <td>False</td>\n",
              "      <td>False</td>\n",
              "      <td>False</td>\n",
              "      <td>False</td>\n",
              "      <td>False</td>\n",
              "      <td>False</td>\n",
              "    </tr>\n",
              "    <tr>\n",
              "      <th>1</th>\n",
              "      <td>False</td>\n",
              "      <td>False</td>\n",
              "      <td>False</td>\n",
              "      <td>False</td>\n",
              "      <td>False</td>\n",
              "      <td>False</td>\n",
              "      <td>False</td>\n",
              "    </tr>\n",
              "    <tr>\n",
              "      <th>2</th>\n",
              "      <td>False</td>\n",
              "      <td>False</td>\n",
              "      <td>False</td>\n",
              "      <td>False</td>\n",
              "      <td>False</td>\n",
              "      <td>False</td>\n",
              "      <td>False</td>\n",
              "    </tr>\n",
              "    <tr>\n",
              "      <th>3</th>\n",
              "      <td>False</td>\n",
              "      <td>False</td>\n",
              "      <td>False</td>\n",
              "      <td>False</td>\n",
              "      <td>False</td>\n",
              "      <td>False</td>\n",
              "      <td>False</td>\n",
              "    </tr>\n",
              "    <tr>\n",
              "      <th>4</th>\n",
              "      <td>False</td>\n",
              "      <td>False</td>\n",
              "      <td>False</td>\n",
              "      <td>False</td>\n",
              "      <td>False</td>\n",
              "      <td>False</td>\n",
              "      <td>False</td>\n",
              "    </tr>\n",
              "    <tr>\n",
              "      <th>5</th>\n",
              "      <td>False</td>\n",
              "      <td>False</td>\n",
              "      <td>False</td>\n",
              "      <td>False</td>\n",
              "      <td>False</td>\n",
              "      <td>False</td>\n",
              "      <td>False</td>\n",
              "    </tr>\n",
              "    <tr>\n",
              "      <th>6</th>\n",
              "      <td>False</td>\n",
              "      <td>False</td>\n",
              "      <td>False</td>\n",
              "      <td>False</td>\n",
              "      <td>False</td>\n",
              "      <td>False</td>\n",
              "      <td>False</td>\n",
              "    </tr>\n",
              "    <tr>\n",
              "      <th>7</th>\n",
              "      <td>False</td>\n",
              "      <td>False</td>\n",
              "      <td>False</td>\n",
              "      <td>False</td>\n",
              "      <td>False</td>\n",
              "      <td>False</td>\n",
              "      <td>False</td>\n",
              "    </tr>\n",
              "    <tr>\n",
              "      <th>8</th>\n",
              "      <td>False</td>\n",
              "      <td>False</td>\n",
              "      <td>False</td>\n",
              "      <td>False</td>\n",
              "      <td>False</td>\n",
              "      <td>False</td>\n",
              "      <td>False</td>\n",
              "    </tr>\n",
              "    <tr>\n",
              "      <th>9</th>\n",
              "      <td>False</td>\n",
              "      <td>False</td>\n",
              "      <td>False</td>\n",
              "      <td>False</td>\n",
              "      <td>False</td>\n",
              "      <td>False</td>\n",
              "      <td>False</td>\n",
              "    </tr>\n",
              "    <tr>\n",
              "      <th>10</th>\n",
              "      <td>False</td>\n",
              "      <td>False</td>\n",
              "      <td>False</td>\n",
              "      <td>False</td>\n",
              "      <td>False</td>\n",
              "      <td>False</td>\n",
              "      <td>False</td>\n",
              "    </tr>\n",
              "    <tr>\n",
              "      <th>11</th>\n",
              "      <td>False</td>\n",
              "      <td>False</td>\n",
              "      <td>False</td>\n",
              "      <td>False</td>\n",
              "      <td>False</td>\n",
              "      <td>False</td>\n",
              "      <td>False</td>\n",
              "    </tr>\n",
              "    <tr>\n",
              "      <th>12</th>\n",
              "      <td>False</td>\n",
              "      <td>False</td>\n",
              "      <td>False</td>\n",
              "      <td>False</td>\n",
              "      <td>False</td>\n",
              "      <td>False</td>\n",
              "      <td>False</td>\n",
              "    </tr>\n",
              "    <tr>\n",
              "      <th>13</th>\n",
              "      <td>False</td>\n",
              "      <td>False</td>\n",
              "      <td>False</td>\n",
              "      <td>False</td>\n",
              "      <td>False</td>\n",
              "      <td>False</td>\n",
              "      <td>False</td>\n",
              "    </tr>\n",
              "    <tr>\n",
              "      <th>14</th>\n",
              "      <td>False</td>\n",
              "      <td>False</td>\n",
              "      <td>False</td>\n",
              "      <td>False</td>\n",
              "      <td>False</td>\n",
              "      <td>False</td>\n",
              "      <td>False</td>\n",
              "    </tr>\n",
              "    <tr>\n",
              "      <th>15</th>\n",
              "      <td>False</td>\n",
              "      <td>False</td>\n",
              "      <td>False</td>\n",
              "      <td>False</td>\n",
              "      <td>False</td>\n",
              "      <td>False</td>\n",
              "      <td>False</td>\n",
              "    </tr>\n",
              "    <tr>\n",
              "      <th>16</th>\n",
              "      <td>False</td>\n",
              "      <td>False</td>\n",
              "      <td>False</td>\n",
              "      <td>False</td>\n",
              "      <td>False</td>\n",
              "      <td>False</td>\n",
              "      <td>False</td>\n",
              "    </tr>\n",
              "    <tr>\n",
              "      <th>17</th>\n",
              "      <td>False</td>\n",
              "      <td>False</td>\n",
              "      <td>False</td>\n",
              "      <td>False</td>\n",
              "      <td>False</td>\n",
              "      <td>True</td>\n",
              "      <td>False</td>\n",
              "    </tr>\n",
              "    <tr>\n",
              "      <th>18</th>\n",
              "      <td>False</td>\n",
              "      <td>False</td>\n",
              "      <td>False</td>\n",
              "      <td>False</td>\n",
              "      <td>False</td>\n",
              "      <td>False</td>\n",
              "      <td>False</td>\n",
              "    </tr>\n",
              "    <tr>\n",
              "      <th>19</th>\n",
              "      <td>False</td>\n",
              "      <td>False</td>\n",
              "      <td>False</td>\n",
              "      <td>False</td>\n",
              "      <td>False</td>\n",
              "      <td>False</td>\n",
              "      <td>False</td>\n",
              "    </tr>\n",
              "  </tbody>\n",
              "</table>\n",
              "</div>\n",
              "      <button class=\"colab-df-convert\" onclick=\"convertToInteractive('df-03d611c5-dd06-4323-9c21-1da01cc1a1b7')\"\n",
              "              title=\"Convert this dataframe to an interactive table.\"\n",
              "              style=\"display:none;\">\n",
              "        \n",
              "  <svg xmlns=\"http://www.w3.org/2000/svg\" height=\"24px\"viewBox=\"0 0 24 24\"\n",
              "       width=\"24px\">\n",
              "    <path d=\"M0 0h24v24H0V0z\" fill=\"none\"/>\n",
              "    <path d=\"M18.56 5.44l.94 2.06.94-2.06 2.06-.94-2.06-.94-.94-2.06-.94 2.06-2.06.94zm-11 1L8.5 8.5l.94-2.06 2.06-.94-2.06-.94L8.5 2.5l-.94 2.06-2.06.94zm10 10l.94 2.06.94-2.06 2.06-.94-2.06-.94-.94-2.06-.94 2.06-2.06.94z\"/><path d=\"M17.41 7.96l-1.37-1.37c-.4-.4-.92-.59-1.43-.59-.52 0-1.04.2-1.43.59L10.3 9.45l-7.72 7.72c-.78.78-.78 2.05 0 2.83L4 21.41c.39.39.9.59 1.41.59.51 0 1.02-.2 1.41-.59l7.78-7.78 2.81-2.81c.8-.78.8-2.07 0-2.86zM5.41 20L4 18.59l7.72-7.72 1.47 1.35L5.41 20z\"/>\n",
              "  </svg>\n",
              "      </button>\n",
              "      \n",
              "  <style>\n",
              "    .colab-df-container {\n",
              "      display:flex;\n",
              "      flex-wrap:wrap;\n",
              "      gap: 12px;\n",
              "    }\n",
              "\n",
              "    .colab-df-convert {\n",
              "      background-color: #E8F0FE;\n",
              "      border: none;\n",
              "      border-radius: 50%;\n",
              "      cursor: pointer;\n",
              "      display: none;\n",
              "      fill: #1967D2;\n",
              "      height: 32px;\n",
              "      padding: 0 0 0 0;\n",
              "      width: 32px;\n",
              "    }\n",
              "\n",
              "    .colab-df-convert:hover {\n",
              "      background-color: #E2EBFA;\n",
              "      box-shadow: 0px 1px 2px rgba(60, 64, 67, 0.3), 0px 1px 3px 1px rgba(60, 64, 67, 0.15);\n",
              "      fill: #174EA6;\n",
              "    }\n",
              "\n",
              "    [theme=dark] .colab-df-convert {\n",
              "      background-color: #3B4455;\n",
              "      fill: #D2E3FC;\n",
              "    }\n",
              "\n",
              "    [theme=dark] .colab-df-convert:hover {\n",
              "      background-color: #434B5C;\n",
              "      box-shadow: 0px 1px 3px 1px rgba(0, 0, 0, 0.15);\n",
              "      filter: drop-shadow(0px 1px 2px rgba(0, 0, 0, 0.3));\n",
              "      fill: #FFFFFF;\n",
              "    }\n",
              "  </style>\n",
              "\n",
              "      <script>\n",
              "        const buttonEl =\n",
              "          document.querySelector('#df-03d611c5-dd06-4323-9c21-1da01cc1a1b7 button.colab-df-convert');\n",
              "        buttonEl.style.display =\n",
              "          google.colab.kernel.accessAllowed ? 'block' : 'none';\n",
              "\n",
              "        async function convertToInteractive(key) {\n",
              "          const element = document.querySelector('#df-03d611c5-dd06-4323-9c21-1da01cc1a1b7');\n",
              "          const dataTable =\n",
              "            await google.colab.kernel.invokeFunction('convertToInteractive',\n",
              "                                                     [key], {});\n",
              "          if (!dataTable) return;\n",
              "\n",
              "          const docLinkHtml = 'Like what you see? Visit the ' +\n",
              "            '<a target=\"_blank\" href=https://colab.research.google.com/notebooks/data_table.ipynb>data table notebook</a>'\n",
              "            + ' to learn more about interactive tables.';\n",
              "          element.innerHTML = '';\n",
              "          dataTable['output_type'] = 'display_data';\n",
              "          await google.colab.output.renderOutput(dataTable, element);\n",
              "          const docLink = document.createElement('div');\n",
              "          docLink.innerHTML = docLinkHtml;\n",
              "          element.appendChild(docLink);\n",
              "        }\n",
              "      </script>\n",
              "    </div>\n",
              "  </div>\n",
              "  "
            ]
          },
          "metadata": {},
          "execution_count": 258
        }
      ]
    },
    {
      "cell_type": "markdown",
      "source": [
        "It is crucial for me to understand the type of data which I am dealing with. In my previous command you have seen me using **info()** and here in this table I have used **df.isnull()** to see if I have any null values otherwise I would need to put them in my cleaning list. As you can also see there is one **True** value returned but it is not a data which I will need to clean. Therefore, I will move ahead with my cleaning of columns. "
      ],
      "metadata": {
        "id": "CaeJEB7HJ9K0"
      }
    },
    {
      "cell_type": "markdown",
      "source": [
        "#**Data Cleaning**\n",
        "Here, I need to do lot of cleanings of my columns. You can see there are extra information which will make my visualization less effective. For the **data cleaning** I have divided it into two sub parts. \n",
        "\n",
        "- **Cleaning Part-1**\n",
        "  - **Columns**\n",
        "- **Cleaning Part-2**\n",
        "  - **X_labels**\n",
        "\n",
        "In each sub parts I have used different ways to clean my data which you can see it below. "
      ],
      "metadata": {
        "id": "KkMD63w8IcsX"
      }
    },
    {
      "cell_type": "markdown",
      "source": [
        "##**Cleaning Part-1**\n",
        "###**Columns**\n",
        "There are extra spaces, numbers, notations which I need to clean. And in the code below it shows the step-by-step process how I have cleaned my columns."
      ],
      "metadata": {
        "id": "nBfUMQjKTKri"
      }
    },
    {
      "cell_type": "code",
      "source": [
        "df.columns"
      ],
      "metadata": {
        "id": "YKIyUraUTdWI",
        "outputId": "d2c7a019-2a7b-4e49-e2e7-f633db6b661e",
        "colab": {
          "base_uri": "https://localhost:8080/"
        }
      },
      "execution_count": 259,
      "outputs": [
        {
          "output_type": "execute_result",
          "data": {
            "text/plain": [
              "Index(['Rank', 'Team', 'Country', 'Value ($M)[10]', 'Debt as% of value[8]',\n",
              "       '% changeon year', 'Revenue ($M)'],\n",
              "      dtype='object')"
            ]
          },
          "metadata": {},
          "execution_count": 259
        }
      ]
    },
    {
      "cell_type": "markdown",
      "source": [
        "Instead of going back and looking at my table columns name, I am running **df.columns** to list all the columns in my data. We can always go back and look at the columns name. However, df.columns just saves us lot of time and makes our job easier. Here, we can see there are [], (), %. Let's clean (%) part from the column and any other special character between them. "
      ],
      "metadata": {
        "id": "BdWwwNJqT9oo"
      }
    },
    {
      "cell_type": "code",
      "source": [
        "cols = df.columns.map(lambda s: re.sub(r\"[.\\d[(.$M%\\d)\\]]\",\"\",s))\n",
        "cols"
      ],
      "metadata": {
        "id": "FHBnINIuT85I",
        "outputId": "04c8a210-5e19-4e0f-c401-65d045efb581",
        "colab": {
          "base_uri": "https://localhost:8080/"
        }
      },
      "execution_count": 260,
      "outputs": [
        {
          "output_type": "execute_result",
          "data": {
            "text/plain": [
              "Index(['Rank', 'Team', 'Country', 'Value ', 'Debt as of value',\n",
              "       ' changeon year', 'Revenue '],\n",
              "      dtype='object')"
            ]
          },
          "metadata": {},
          "execution_count": 260
        }
      ]
    },
    {
      "cell_type": "markdown",
      "source": [
        "I have used **RegEx** package to clean my data. It took me a while to do this but surprisingly I figured it out. At first I tried it without () which gave me a pain in my head. However, after putting the brackets it seems to be working."
      ],
      "metadata": {
        "id": "gZKWjEbCgPLM"
      }
    },
    {
      "cell_type": "code",
      "source": [
        "df.columns = df.columns.map(lambda s: re.sub(r\"[.\\d[(.$M%\\d)\\]]\",\"\",s))"
      ],
      "metadata": {
        "id": "5VwrPOieefnX"
      },
      "execution_count": 261,
      "outputs": []
    },
    {
      "cell_type": "markdown",
      "source": [
        "Now, I will apply this to my old table. Let's see if my data is cleaned properly. "
      ],
      "metadata": {
        "id": "y4LIpkUh5-pc"
      }
    },
    {
      "cell_type": "code",
      "source": [
        "df.columns"
      ],
      "metadata": {
        "colab": {
          "base_uri": "https://localhost:8080/"
        },
        "id": "npNKU6uY6Gxe",
        "outputId": "010a6329-a152-4197-9e41-e4bb8675393b"
      },
      "execution_count": 262,
      "outputs": [
        {
          "output_type": "execute_result",
          "data": {
            "text/plain": [
              "Index(['Rank', 'Team', 'Country', 'Value ', 'Debt as of value',\n",
              "       ' changeon year', 'Revenue '],\n",
              "      dtype='object')"
            ]
          },
          "metadata": {},
          "execution_count": 262
        }
      ]
    },
    {
      "cell_type": "markdown",
      "source": [
        "There is still a space between world, I will go ahead and clean those as well. "
      ],
      "metadata": {
        "id": "teMOmoHO6I-G"
      }
    },
    {
      "cell_type": "code",
      "source": [
        "cols1 = df.columns.map(lambda s: re.sub(r\" \",\"\",s))\n",
        "cols1"
      ],
      "metadata": {
        "colab": {
          "base_uri": "https://localhost:8080/"
        },
        "id": "60f2tuN2LY9A",
        "outputId": "dfbc1b7f-0b48-47c6-fd23-6e9ae6ddd729"
      },
      "execution_count": 263,
      "outputs": [
        {
          "output_type": "execute_result",
          "data": {
            "text/plain": [
              "Index(['Rank', 'Team', 'Country', 'Value', 'Debtasofvalue', 'changeonyear',\n",
              "       'Revenue'],\n",
              "      dtype='object')"
            ]
          },
          "metadata": {},
          "execution_count": 263
        }
      ]
    },
    {
      "cell_type": "code",
      "source": [
        "df.columns = df.columns.map(lambda s: re.sub(r\" \",\"\",s))"
      ],
      "metadata": {
        "id": "mihyIXTG6Tha"
      },
      "execution_count": 264,
      "outputs": []
    },
    {
      "cell_type": "code",
      "source": [
        "df.columns"
      ],
      "metadata": {
        "colab": {
          "base_uri": "https://localhost:8080/"
        },
        "id": "q3BkmdnP6eDE",
        "outputId": "97adcd69-3d1c-40f7-91b7-d94dab0f349b"
      },
      "execution_count": 265,
      "outputs": [
        {
          "output_type": "execute_result",
          "data": {
            "text/plain": [
              "Index(['Rank', 'Team', 'Country', 'Value', 'Debtasofvalue', 'changeonyear',\n",
              "       'Revenue'],\n",
              "      dtype='object')"
            ]
          },
          "metadata": {},
          "execution_count": 265
        }
      ]
    },
    {
      "cell_type": "markdown",
      "source": [
        "##**Cleaning Part-2**\n",
        "###**X_labels are capitalized**\n",
        "All the xticklabels are capitalized in the above graph. So, I am going to clean that part."
      ],
      "metadata": {
        "id": "0MbiKdmOSf8r"
      }
    },
    {
      "cell_type": "code",
      "source": [
        "Team = df.Team.map (lambda s: s.upper()) "
      ],
      "metadata": {
        "id": "bAIdbpQoRXAY"
      },
      "execution_count": 266,
      "outputs": []
    },
    {
      "cell_type": "code",
      "source": [
        "df.Team =df.Team.map(lambda s: s.upper())"
      ],
      "metadata": {
        "id": "xzVTh8tpSM-0"
      },
      "execution_count": 267,
      "outputs": []
    },
    {
      "cell_type": "markdown",
      "source": [
        "Now, I will apply this to my old table. I believe, now I have my table to do some visualization."
      ],
      "metadata": {
        "id": "3EyjjB_7gnnW"
      }
    },
    {
      "cell_type": "markdown",
      "source": [
        "#**Data Is Ready For Visualization**"
      ],
      "metadata": {
        "id": "4an7dThaE-EL"
      }
    },
    {
      "cell_type": "code",
      "source": [
        "ax = sns.barplot(data = df, x = 'Team', y= \"Value\", ci= None)\n",
        "ax.set_xticklabels(ax.get_xticklabels(),rotation = 60)\n",
        "ylabels = ['0','$500M' , '$1B', '$1.5B', '$2B', '$2.5B', '$3B', '$3.5B', '$4B']\n",
        "ax.set_yticklabels(ylabels)\n",
        "ax.set_title('TOP 20 MOST VALUABLE SOCCER TEAMS 2016')\n",
        "plt.show()"
      ],
      "metadata": {
        "colab": {
          "base_uri": "https://localhost:8080/",
          "height": 585
        },
        "id": "e40DO4fuz51V",
        "outputId": "a3476377-0883-4927-f6de-19ef059f0433"
      },
      "execution_count": 268,
      "outputs": [
        {
          "output_type": "display_data",
          "data": {
            "text/plain": [
              "<Figure size 1080x576 with 1 Axes>"
            ],
            "image/png": "[encoded data removed]"
          },
          "metadata": {}
        }
      ]
    },
    {
      "cell_type": "markdown",
      "source": [
        "It looks like a right size to me but not the color I am expecting it to be. I want to have it light blue like my masters graph. So, I will try to play around with the color. "
      ],
      "metadata": {
        "id": "FHWMOzBEG55L"
      }
    },
    {
      "cell_type": "markdown",
      "source": [
        "Well, the graph does not quick looks like that. But I will try to do it in a different way. Let's see if it will work. "
      ],
      "metadata": {
        "id": "ptyp6IE4tQ3l"
      }
    },
    {
      "cell_type": "code",
      "source": [
        "plt.rcParams[\"figure.figsize\"] = [15, 8]\n",
        "plt.rcParams[\"figure.autolayout\"] = True\n",
        "sns.set_style('ticks')\n",
        "ax = sns.barplot(data = df, x = 'Team', y= \"Value\", color= 'Blue', ci= None, linewidth= 0.5)\n",
        "ax.set_xticklabels(ax.get_xticklabels(),rotation = 60)\n",
        "ylabels = ['0','$500M' , '$1B', '$1.5B', '$2B', '$2.5B', '$3B', '$3.5B', '$4B']\n",
        "ax.set_yticklabels(ylabels)\n",
        "ax.set_title('TOP 20 MOST VALUABLE SOCCER TEAMS 2016')\n",
        "sns.despine()\n",
        "plt.show()"
      ],
      "metadata": {
        "id": "EBG2NmYkEsm4",
        "outputId": "523b704e-dc58-4134-ea0a-d6f9d1343c08",
        "colab": {
          "base_uri": "https://localhost:8080/",
          "height": 585
        }
      },
      "execution_count": 269,
      "outputs": [
        {
          "output_type": "display_data",
          "data": {
            "text/plain": [
              "<Figure size 1080x576 with 1 Axes>"
            ],
            "image/png": "[encoded data removed]"
          },
          "metadata": {}
        }
      ]
    },
    {
      "cell_type": "markdown",
      "source": [
        "WOw! The color is way too dark. All the bars now have even color but still it is not what I am expecting it to be. "
      ],
      "metadata": {
        "id": "fZYHu1BFHTd5"
      }
    },
    {
      "cell_type": "code",
      "source": [
        "plt.rcParams[\"figure.figsize\"] = [15, 8]\n",
        "plt.rcParams[\"figure.autolayout\"] = True\n",
        "sns.set_style('ticks')\n",
        "ax = sns.barplot(data = df, x = 'Team', y= \"Value\", color= 'steelblue', ci= None, linewidth = 0.5)\n",
        "ax.set_xticklabels(ax.get_xticklabels(),rotation = 60)\n",
        "ylabels = ['0','$500M' , '$1B', '$1.5B', '$2B', '$2.5B', '$3B', '$3.5B', '$4B']\n",
        "ax.set_yticklabels(ylabels)\n",
        "ax.set_title('TOP 20 MOST VALUABLE SOCCER TEAMS (2016)',size = float(35.0), fontweight = 'bold')\n",
        "ax.set_ylabel(\"TOTAL VALUATION (IN U.S. DOLLARS)\", size = float(20.0), fontweight = 'bold')\n",
        "sns.despine()\n",
        "plt.show()"
      ],
      "metadata": {
        "colab": {
          "base_uri": "https://localhost:8080/",
          "height": 585
        },
        "id": "A6p99SBYr_MP",
        "outputId": "d711207f-a584-4c00-a3f1-b9202f220b69"
      },
      "execution_count": 270,
      "outputs": [
        {
          "output_type": "display_data",
          "data": {
            "text/plain": [
              "<Figure size 1080x576 with 1 Axes>"
            ],
            "image/png": "[encoded data removed]"
          },
          "metadata": {}
        }
      ]
    },
    {
      "cell_type": "markdown",
      "source": [
        "I have changed the color from **dark blue** to **steel blue**. It started to look like the graph I am planning to create. In addition, I have also changed my font size of the title. "
      ],
      "metadata": {
        "id": "ARehljE5EP_D"
      }
    },
    {
      "cell_type": "code",
      "source": [
        "from matplotlib.offsetbox import TextArea, DrawingArea, OffsetImage, AnnotationBbox\n",
        "fig, ax = plt.subplots()\n",
        "ax.set_xlim(0, 1)\n",
        "ax.set_ylim(0, 1)\n",
        "arr_lena = plt.imread('/content/drive/MyDrive/logos/Real_Madrid.png')\n",
        "newax = fig.add_axes([-0.08,0.95,0.2,0.2], anchor='NE', zorder=1)\n",
        "newax.imshow(arr_lena)\n",
        "newax.axis('off')\n",
        "plt.draw()\n",
        "plt.show()"
      ],
      "metadata": {
        "id": "12X9yt8Kn3qR",
        "outputId": "fbe9be09-26b9-4b7e-95ce-83ac328e067a",
        "colab": {
          "base_uri": "https://localhost:8080/",
          "height": 754
        }
      },
      "execution_count": 271,
      "outputs": [
        {
          "output_type": "stream",
          "name": "stderr",
          "text": [
            "/usr/local/lib/python3.7/dist-packages/ipykernel_launcher.py:9: UserWarning: This figure includes Axes that are not compatible with tight_layout, so results might be incorrect.\n",
            "  if __name__ == '__main__':\n",
            "/usr/local/lib/python3.7/dist-packages/IPython/core/pylabtools.py:125: UserWarning: This figure includes Axes that are not compatible with tight_layout, so results might be incorrect.\n",
            "  fig.canvas.print_figure(bytes_io, **kw)\n"
          ]
        },
        {
          "output_type": "display_data",
          "data": {
            "text/plain": [
              "<Figure size 1080x576 with 2 Axes>"
            ],
            "image/png": "[encoded data removed]"
          },
          "metadata": {}
        }
      ]
    },
    {
      "cell_type": "code",
      "source": [
        "plt.rcParams[\"figure.figsize\"] = [16, 10]\n",
        "plt.rcParams[\"figure.autolayout\"] = True\n",
        "sns.set_style('ticks')\n",
        "ax = sns.barplot(data = df, x = 'Team', y= \"Value\", color= 'steelblue', ci= None, linewidth = 0.5, )\n",
        "ax.set_xticklabels(ax.get_xticklabels(),rotation = 45,size = float(17.0), fontweight = 'bold', color = 'steelblue', ha=\"right\", rotation_mode=\"anchor\")\n",
        "ylabels = ['0','$500M' , '$1B', '$1.5B', '$2B', '$2.5B', '$3B', '$3.5B', '$4B']\n",
        "ax.set_yticklabels(ylabels, size = float(17.0), fontweight = 'bold', color = 'steelblue', rotation_mode=\"anchor\")\n",
        "ax.set_title('TOP 20 MOST VALUABLE SOCCER TEAMS (2016)',size = float(35.0), fontweight = 'bold', color= 'steelblue')\n",
        "ax.set_ylabel(\"TOTAL VALUATION (IN U.S. DOLLARS)\", size = float(15.0), fontweight = 'bold',  color= 'steelblue', ha=\"center\")\n",
        "arr_lena= plt.imread('/content/drive/MyDrive/logos/Real_Madrid.png')\n",
        "axin = ax.inset_axes([-0.125,0.96,0.1699,0.14], anchor='NE', zorder=1)    \n",
        "axin.imshow(arr_lena)\n",
        "axin.axis('off')\n",
        "sns.despine()\n",
        "plt.show()"
      ],
      "metadata": {
        "id": "rGh-cdpYnFmb"
      },
      "execution_count": null,
      "outputs": []
    },
    {
      "cell_type": "code",
      "source": [
        "plt.rcParams[\"figure.figsize\"] = [15, 8]\n",
        "plt.rcParams[\"figure.autolayout\"] = True\n",
        "sns.set_style('whitegrid')\n",
        "ax = sns.barplot(data = df, x = 'Team', y= \"Value\", color= 'steelblue', ci= None, linewidth = 1)\n",
        "ax.set_xticklabels(ax.get_xticklabels(),rotation = 45, fontweight = 'bold', size = float(17.0), color = 'steelblue', ha=\"right\", rotation_mode=\"anchor\")\n",
        "ylabels = ['0','$500M' , '$1B', '$1.5B', '$2B', '$2.5B', '$3B', '$3.5B', '$4B']\n",
        "ax.set_yticklabels(ylabels, size = float(17.0), fontweight = 'bold', color = 'steelblue', rotation_mode=\"anchor\")\n",
        "ax.set_title('TOP 20 MOST VALUABLE SOCCER TEAMS (2016)',size = float(30.0), fontweight = 'bold', color= 'steelblue')\n",
        "ax.set_ylabel(\"TOTAL VALUATION (IN U.S. DOLLARS)\", size = float(15.0), fontweight = 'bold',  color= 'steelblue')\n",
        "arr_lena = plt.imread(\"/content/drive/MyDrive/logos/Barcelona.png\")\n",
        "axin = ax.inset_axes([0.00019,0.935,0.098,0.099], anchor='NE', zorder=1)    \n",
        "axin.imshow(arr_lena)\n",
        "axin.axis('off')\n",
        "sns.despine()\n",
        "plt.show()"
      ],
      "metadata": {
        "id": "UYC9K2fOPDTv"
      },
      "execution_count": null,
      "outputs": []
    },
    {
      "cell_type": "markdown",
      "source": [
        "Here I was able to put the **logo** in at the top of the first team and I have changed font color to the matching color. Also, I have tried to change font size for **(2016)** but I could not figure it out. "
      ],
      "metadata": {
        "id": "VaJXx22gQQgH"
      }
    },
    {
      "cell_type": "markdown",
      "source": [
        "I will need it to work for all of my graph. I think seaborn is not doing a great job to do that. I might have to use different library for that. I will go ahead and try that with numpy. Also, you can see when I use white grid the label was overlapping with my logo which means I will need to resize my logo.  "
      ],
      "metadata": {
        "id": "dpz_tmODbysH"
      }
    },
    {
      "cell_type": "code",
      "source": [
        "plt.rcParams[\"figure.figsize\"] = [15, 8]\n",
        "plt.rcParams[\"figure.autolayout\"] = True\n",
        "sns.set_style('whitegrid')\n",
        "ax = sns.barplot(data = df, x = 'Team', y= \"Value\", color= 'steelblue', ci= None, linewidth = 1)\n",
        "ax.set_xticklabels(ax.get_xticklabels(),rotation = 45, fontweight = 'bold', size = float(17.0), color = 'steelblue', ha=\"right\", rotation_mode=\"anchor\")\n",
        "ylabels = ['0','$500M' , '$1B', '$1.5B', '$2B', '$2.5B', '$3B', '$3.5B', '$4B']\n",
        "ax.set_yticklabels(ylabels, size = float(17.0), fontweight = 'bold', color = 'steelblue', rotation_mode=\"anchor\")\n",
        "ax.set_title('TOP 20 MOST VALUABLE SOCCER TEAMS (2016)',size = float(30.0), fontweight = 'bold', color= 'steelblue')\n",
        "ax.set_ylabel(\"TOTAL VALUATION (IN U.S. DOLLARS)\", size = float(15.0), fontweight = 'bold',  color= 'steelblue')\n",
        "arr_lena = plt.imread(f\"/content/drive/MyDrive/logos/ACMilan.png\")\n",
        "axin = ax.inset_axes([0.49,0.225,0.099,0.099], anchor='NE', zorder=1)    \n",
        "axin.imshow(arr_lena)\n",
        "axin.axis('off')\n",
        "sns.despine()\n",
        "plt.show()"
      ],
      "metadata": {
        "id": "VIN2IL48JY_z"
      },
      "execution_count": null,
      "outputs": []
    },
    {
      "cell_type": "markdown",
      "source": [
        "In my above three graphs, I was able to manipulate axis and logo size. However, I have to make it look like in one single graph which will not be easy. "
      ],
      "metadata": {
        "id": "-22-Wpa9QWwk"
      }
    },
    {
      "cell_type": "code",
      "source": [
        "plt.rcParams[\"figure.figsize\"] = [15, 8]\n",
        "plt.rcParams[\"figure.autolayout\"] = True\n",
        "sns.set_style('whitegrid')\n",
        "ax = sns.barplot(data = df, x = 'Team', y= \"Value\", color= 'steelblue', ci= None, linewidth = 1,)\n",
        "ax.set_xticklabels(ax.get_xticklabels(),rotation = 45, fontweight = 'bold', size = float(17.0), color = 'steelblue', ha=\"right\", rotation_mode=\"anchor\")\n",
        "ylabels = ['0','$500M' , '$1B', '$1.5B', '$2B', '$2.5B', '$3B', '$3.5B', '$4B']\n",
        "ax.set_yticklabels(ylabels, size = float(17.0), fontweight = 'bold', color = 'steelblue', rotation_mode=\"anchor\")\n",
        "ax.set_title('TOP 20 MOST VALUABLE SOCCER TEAMS (2016)',size = float(30.0), fontweight = 'bold', color= 'steelblue')\n",
        "ax.set_ylabel(\"TOTAL VALUATION (IN U.S. DOLLARS)\", size = float(15.0), fontweight = 'bold',  color= 'steelblue')\n",
        "arr_lena = plt.imread(f\"/content/drive/MyDrive/logos/ACMilan.png\")\n",
        "axin = ax.inset_axes([0.499,0.225,0.099,0.2], anchor='NE', zorder=1)    \n",
        "axin.imshow(arr_lena)\n",
        "axin.axis('off')\n",
        "sns.despine()\n",
        "plt.show()"
      ],
      "metadata": {
        "id": "IVPp8bXe6TsA"
      },
      "execution_count": null,
      "outputs": []
    },
    {
      "cell_type": "markdown",
      "source": [
        "#Challanges\n",
        "When I was doing it I have encountered many chalanges. I was able to put logo in each axix for one particular bar graph but, I could not do that for all of them. However, I have found another way to do that and here is one. "
      ],
      "metadata": {
        "id": "_9LCQ8Df2B3M"
      }
    },
    {
      "cell_type": "code",
      "source": [
        "fig, ax = plt.subplots()\n",
        "ax.set_xlim(0, 1)\n",
        "ax.set_ylim(0, 1)\n",
        "\n",
        "arr_lena = plt.imread(\"/content/drive/MyDrive/logos/ACMilan.png\")\n",
        "\n",
        "imagebox = OffsetImage(arr_lena, zoom=0.2)\n",
        "\n",
        "ab = AnnotationBbox(imagebox, (0.49,0.225))\n",
        "\n",
        "ax.add_artist(ab)\n",
        "plt.draw()\n",
        "plt.show()\n"
      ],
      "metadata": {
        "id": "Z7FRTxJw1E5z"
      },
      "execution_count": null,
      "outputs": []
    },
    {
      "cell_type": "code",
      "source": [
        "plt.rcParams[\"figure.figsize\"] = [15, 8]\n",
        "plt.rcParams[\"figure.autolayout\"] = True\n",
        "sns.set_style('whitegrid')\n",
        "fig, ax= plt.subplots()\n",
        "sc = sns.barplot(data = df, x = 'Team', y= \"Value\", color= 'steelblue', ci= None, linewidth = 1)\n",
        "ax.set_xticklabels(ax.get_xticklabels(),rotation = 45, fontweight = 'bold', size = float(17.0), color = 'steelblue', ha=\"right\", rotation_mode=\"anchor\")\n",
        "ylabels = ['0','$500M' , '$1B', '$1.5B', '$2B', '$2.5B', '$3B', '$3.5B', '$4B']\n",
        "ax.set_yticklabels(ylabels, size = float(17.0), fontweight = 'bold', color = 'steelblue', rotation_mode=\"anchor\")\n",
        "ax.set_title('TOP 20 MOST VALUABLE SOCCER TEAMS (2016)',size = float(30.0), fontweight = 'bold', color= 'steelblue')\n",
        "ax.set_ylabel(\"TOTAL VALUATION (IN U.S. DOLLARS)\", size = float(15.0), fontweight = 'bold',  color= 'steelblue')\n",
        "arr_lena = plt.imread(f\"/content/drive/MyDrive/logos/ACMilan.png\")\n",
        "imagebox= OffsetImage(arr_lena, zoom = .2)\n",
        "#axin = ax.inset_axes([0.49,0.225,0.099,0.099], anchor='NE', zorder=1) \n",
        "ab = AnnotationBbox(imagebox,(11, 1150) , frameon = False)\n",
        "ax.add_artist(ab)   \n",
        "axin.axis('off')\n",
        "sns.despine()\n",
        "plt.show()"
      ],
      "metadata": {
        "id": "Xag54foh4mIC"
      },
      "execution_count": null,
      "outputs": []
    },
    {
      "cell_type": "code",
      "source": [
        "teams = [x.replace(\" \",\"\").replace(\".\",\"\").lower() for x in df.Team.unique()]"
      ],
      "metadata": {
        "id": "hesIjM3TPC4I"
      },
      "execution_count": null,
      "outputs": []
    },
    {
      "cell_type": "code",
      "source": [
        "#plt.rcParams[\"figure.figsize\"] = [15, 8]\n",
        "#plt.rcParams[\"figure.autolayout\"] = True\n",
        "#sns.set_style('whitegrid')\n",
        "#fig, ax= plt.subplots()\n",
        "#sc = sns.barplot(data = df, x = 'Team', y= \"Value\", color= 'steelblue', ci= None, linewidth = 1)\n",
        "#ax.set_xticklabels(ax.get_xticklabels(),rotation = 45, fontweight = 'bold', size = float(17.0), color = 'steelblue', ha=\"right\", rotation_mode=\"anchor\")\n",
        "#ax.set_title('TOP 20 MOST VALUABLE SOCCER TEAMS (2016)',size = float(30.0), fontweight = 'bold', color= 'steelblue')\n",
        "#ax.set_ylabel(\"TOTAL VALUATION (IN U.S. DOLLARS)\", size = float(15.0), fontweight = 'bold',  color= 'steelblue')\n",
        "#for team in teams:\n",
        "  #arr_lena = plt.imread(team +\".png\")\n",
        "#imagebox= OffsetImage(arr_lena, zoom = .2)\n",
        "#axin = ax.inset_axes([0.49,0.225,0.099,0.099], anchor='NE', zorder=1) \n",
        "#ab = AnnotationBbox(imagebox,(12, 1150) )\n",
        "#ax.add_artist(ab)   \n",
        "#axin.axis('off')\n",
        "#sns.despine()\n",
        "#plt.show()"
      ],
      "metadata": {
        "id": "cuHx7Ms24bye"
      },
      "execution_count": null,
      "outputs": []
    },
    {
      "cell_type": "markdown",
      "source": [
        "In this graph, I am not sure why I am getting this error again and again. I thought I had a corrupted file and redownoaded again but still i am getting error. If this code has worked for me then I could put my logo in a loop. "
      ],
      "metadata": {
        "id": "wiu0kBYsuN2O"
      }
    },
    {
      "cell_type": "markdown",
      "source": [
        "I did not wanted to do it this way writing whole bunch of code but \"Plan-B\" did not work for me that’s why I had to stick with **Plan-A**. I have tried to make multiple annotations but for some reason all the images were not that clear. It could be the reason I have had wrong size image. "
      ],
      "metadata": {
        "id": "tXKWH--1t1DO"
      }
    },
    {
      "cell_type": "code",
      "source": [
        "plt.rcParams[\"figure.figsize\"] = [15, 8]\n",
        "plt.rcParams[\"figure.autolayout\"] = True\n",
        "sns.set_style('whitegrid')\n",
        "fig, ax= plt.subplots()\n",
        "sc = sns.barplot(data = df, x = 'Team', y= \"Value\", color= 'steelblue', ci= None, linewidth = 1)\n",
        "ax.set_xticklabels(ax.get_xticklabels(),rotation = 45, fontweight = 'bold', size = float(17.0), color = 'steelblue', ha=\"right\", rotation_mode=\"anchor\")\n",
        "ylabels = ['0','$500M' , '$1B', '$1.5B', '$2B', '$2.5B', '$3B', '$3.5B', '$4B']\n",
        "ax.set_yticklabels(ylabels, size = float(17.0), fontweight = 'bold', color = 'steelblue', rotation_mode=\"anchor\")\n",
        "ax.set_title('TOP 20 MOST VALUABLE SOCCER TEAMS (2016)',size = float(30.0), fontweight = 'bold', color= 'steelblue')\n",
        "ax.set_ylabel(\"TOTAL VALUATION (IN U.S. DOLLARS)\", size = float(15.0), fontweight = 'bold',  color= 'steelblue')\n",
        "arr_lena = plt.imread(f\"/content/drive/MyDrive/logos/ACMilan.png\")\n",
        "imagebox= OffsetImage(arr_lena, zoom = .2)\n",
        "#axin = ax.inset_axes([0.49,0.225,0.099,0.099], anchor='NE', zorder=1) \n",
        "ab1 = AnnotationBbox(imagebox,(11, 1150) , frameon = False)\n",
        "\n",
        "arr_lena = plt.imread(f\"/content/drive/MyDrive/logos/Barcelona.png\")\n",
        "imagebox= OffsetImage(arr_lena, zoom = .3)\n",
        "#axin = ax.inset_axes([0.49,0.225,0.099,0.099], anchor='NE', zorder=1) \n",
        "ab2 = AnnotationBbox(imagebox,(1, 3800) , frameon = False)\n",
        "ax.add_artist(ab1)  \n",
        "ax.add_artist(ab2)   \n",
        "axin.axis('off')\n",
        "sns.despine()\n",
        "plt.show()"
      ],
      "metadata": {
        "id": "CJzidS5Ipo9y"
      },
      "execution_count": null,
      "outputs": []
    },
    {
      "cell_type": "markdown",
      "source": [
        "The graph is still showing x-label which I need to remove from the graph. Also, in order to make my graph close to the graph I am recreating I still need to do lot of work on y-axis and some annotations. "
      ],
      "metadata": {
        "id": "x5huBhjNP5ch"
      }
    },
    {
      "cell_type": "code",
      "source": [
        "plt.rcParams[\"figure.figsize\"] = [15, 8]\n",
        "plt.rcParams[\"figure.autolayout\"] = True\n",
        "sns.set_style('whitegrid')\n",
        "ax = sns.barplot(data = df, x = 'Team', y= \"Value\", color= 'steelblue', ci= None, linewidth = 1)\n",
        "ax.set_xticklabels(ax.get_xticklabels(),rotation = 45, fontweight = 'bold', size = float(17.0), color = 'steelblue', ha=\"right\", rotation_mode=\"anchor\")\n",
        "ylabels = ['0','$500M' , '$1B', '$1.5B', '$2B', '$2.5B', '$3B', '$3.5B', '$4B']\n",
        "ax.set_yticklabels(ylabels, size = float(16.0), fontweight = 'bold', color = 'steelblue', rotation_mode=\"anchor\")\n",
        "ax.set_title('TOP 20 MOST VALUABLE SOCCER TEAMS (2016)',size = float(30.0), fontweight = 'bold', color= 'steelblue')\n",
        "ax.set_ylabel(\"TOTAL VALUATION (IN U.S. DOLLARS)\", size = float(15.0), fontweight = 'bold',  color= 'steelblue')\n",
        "\n",
        "\n",
        "arr_lena1= plt.imread(f'/content/drive/MyDrive/logos/Real_Madrid.png')\n",
        "axin = ax.inset_axes([-0.125,0.96,0.1699,0.14], anchor='NE', zorder=1)  \n",
        "axin.imshow(arr_lena1)\n",
        "axin.axis('OFF')\n",
        "\n",
        "arr_lena2 = plt.imread(f\"/content/drive/MyDrive/logos/Barcelona.png\")\n",
        "axin = ax.inset_axes([0.00015,0.935,0.098,0.12], anchor='NE', zorder=1)    \n",
        "axin.imshow(arr_lena2)  \n",
        "axin.axis('OFF')\n",
        "\n",
        "arr_lena3 = plt.imread(f\"/content/drive/MyDrive/logos/ManchesterUnited.png\")\n",
        "axin = ax.inset_axes([0.05,0.875,0.099,0.13], anchor='NE', zorder=1)    \n",
        "axin.imshow(arr_lena3)\n",
        "axin.axis('OFF')\n",
        "\n",
        "arr_lena4 = plt.imread(f\"/content/drive/MyDrive/logos/BayrenMunich.png\")\n",
        "axin = ax.inset_axes([0.103,0.70,0.099,0.13], anchor='NE', zorder=1)\n",
        "axin.imshow(arr_lena4)\n",
        "axin.axis('OFF')\n",
        "\n",
        "\n",
        "arr_lena5 = plt.imread(f\"/content/drive/MyDrive/logos/Arsenal.png\")\n",
        "axin = ax.inset_axes([0.148,0.53,0.099,0.13], anchor='NE', zorder=1)    \n",
        "axin.imshow(arr_lena5)\n",
        "axin.axis('OFF')\n",
        "\n",
        "arr_lena6 = plt.imread(f\"/content/drive/MyDrive/logos/ManchesterCity (1).png\")\n",
        "axin = ax.inset_axes([0.195,0.5,0.099,0.13], anchor='NE', zorder=1)    \n",
        "axin.imshow(arr_lena6)\n",
        "axin.axis('OFF')\n",
        "\n",
        "arr_lena7 = plt.imread(f\"/content/drive/MyDrive/logos/Chelsea.png\")\n",
        "axin = ax.inset_axes([0.25,0.44,0.099,0.13], anchor='NE', zorder=1)    \n",
        "axin.imshow(arr_lena7)\n",
        "axin.axis('OFF')\n",
        "\n",
        "arr_lena8 = plt.imread(f\"/content/drive/MyDrive/logos/Liverpool.png\")\n",
        "axin = ax.inset_axes([0.31,0.41,0.099,0.14], anchor='NE', zorder=1)    \n",
        "axin.imshow(arr_lena8)\n",
        "axin.axis('OFF')\n",
        "\n",
        "arr_lena9 = plt.imread(f\"/content/drive/MyDrive/logos/Juventus.png\")\n",
        "axin = ax.inset_axes([0.343,0.34,0.099,0.16], anchor='NE', zorder=1)    \n",
        "axin.imshow(arr_lena9)\n",
        "axin.axis('OFF')\n",
        "\n",
        "arr_lena10 = plt.imread(f\"/content/drive/MyDrive/logos/TottenhamHotspur.png\")\n",
        "axin = ax.inset_axes([0.39,0.27,0.099,0.17], anchor='NE', zorder=1)    \n",
        "axin.imshow(arr_lena10)\n",
        "axin.axis('OFF')\n",
        "\n",
        "arr_lena11 = plt.imread(f\"/content/drive/MyDrive/logos/BorussiaDortmund.png\")\n",
        "axin = ax.inset_axes([0.447,0.22,0.099,0.13], anchor='NE', zorder=1)    \n",
        "axin.imshow(arr_lena11)\n",
        "axin.axis('OFF')\n",
        "\n",
        "arr_lena12 = plt.imread(f\"/content/drive/MyDrive/logos/ACMilan.png\")\n",
        "axin = ax.inset_axes([0.499,0.22,0.099,0.18], anchor='NE', zorder=1)    \n",
        "axin.imshow(arr_lena12)\n",
        "axin.axis('OFF')\n",
        "\n",
        "arr_lena13 = plt.imread(f\"/content/drive/MyDrive/logos/ParisSaintGerman.png\")\n",
        "axin = ax.inset_axes([0.55,0.216,0.099,0.13], anchor='NE', zorder=1)    \n",
        "axin.imshow(arr_lena13)\n",
        "axin.axis('OFF')\n",
        "\n",
        "arr_lena14 = plt.imread(f\"/content/drive/MyDrive/logos/Schalke04.png\")\n",
        "axin = ax.inset_axes([0.6,0.174,0.099,0.13], anchor='NE', zorder=1)    \n",
        "axin.imshow(arr_lena14)\n",
        "axin.axis('OFF')\n",
        "\n",
        "arr_lena15 = plt.imread(f\"/content/drive/MyDrive/logos/AtleticoMadrid.png\")\n",
        "axin = ax.inset_axes([0.65,0.17,0.099,0.13], anchor='NE', zorder=1)    \n",
        "axin.imshow(arr_lena15)\n",
        "axin.axis('OFF')\n",
        "\n",
        "arr_lena16 = plt.imread(f\"/content/drive/MyDrive/logos/Internazionale.png\")\n",
        "axin = ax.inset_axes([0.699,0.148,0.099,0.12], anchor='NE', zorder=1)    \n",
        "axin.imshow(arr_lena16)\n",
        "axin.axis('OFF')\n",
        "\n",
        "arr_lena17 = plt.imread(f\"/content/drive/MyDrive/logos/WestHamUnited.png\")\n",
        "axin = ax.inset_axes([0.744,0.146,0.099,0.11], anchor='NE', zorder=1)    \n",
        "axin.imshow(arr_lena17)\n",
        "axin.axis('OFF')\n",
        "\n",
        "arr_lena18 = plt.imread(f\"/content/drive/MyDrive/logos/Roma.png\")\n",
        "axin = ax.inset_axes([0.79,0.138,0.099,0.12], anchor='NE', zorder=1)    \n",
        "axin.imshow(arr_lena18)\n",
        "axin.axis('OFF')\n",
        "\n",
        "arr_lena19 = plt.imread(f\"/content/drive/MyDrive/logos/Napoli.png\")\n",
        "axin = ax.inset_axes([0.85,0.11,0.099,0.12], anchor='NE', zorder=1)    \n",
        "axin.imshow(arr_lena19)\n",
        "axin.axis('OFF')\n",
        "\n",
        "arr_lena20 = plt.imread(f\"/content/drive/MyDrive/logos/NewcastleUnitedlogo.png\")\n",
        "axin = ax.inset_axes([0.899,0.1,0.099,0.12], anchor='NE', zorder=1)    \n",
        "axin.imshow(arr_lena20)\n",
        "axin.axis('OFF')\n",
        "\n",
        "ax.set(xlabel=None)\n",
        "sns.despine()\n",
        "plt.show()"
      ],
      "metadata": {
        "id": "tCQVavBRrQKb"
      },
      "execution_count": null,
      "outputs": []
    },
    {
      "cell_type": "markdown",
      "source": [
        "#[Color of Choice](https://www.webucator.com/article/python-color-constants-module/)\n",
        "I have tried each and every possible color one-by-one that was blue and looked closer to my graph. After trying many colors, I have found these three color which I am really interested in.  \n",
        "-  midnightblue \n",
        "-  darkslateblue\n",
        "-  slateblue\n",
        "\n",
        "Let's see how it goes and what kind of changes it does to the graph."
      ],
      "metadata": {
        "id": "Y1G-qcJ8srMK"
      }
    },
    {
      "cell_type": "code",
      "source": [
        "plt.rcParams[\"figure.figsize\"] = [15, 8]\n",
        "plt.rcParams[\"figure.autolayout\"] = True\n",
        "sns.set_style('whitegrid')\n",
        "ax = sns.barplot(data = df, x = 'Team', y= \"Value\", color= 'steelblue', ci= None, linewidth = 1)\n",
        "ax.set_xticklabels(ax.get_xticklabels(),rotation = 45, fontweight = 'bold', size = float(17.0),fontname=\"Dejavu serif\",color = 'midnightblue', ha=\"right\", rotation_mode=\"anchor\")\n",
        "ylabels = ['0','$500M' , '$1B', '$1.5B', '$2B', '$2.5B', '$3B', '$3.5B', '$4B']\n",
        "ax.set_yticklabels(ylabels, size = float(17.0), fontweight = 'bold', color = 'midnightblue', rotation_mode=\"anchor\")\n",
        "ax.set_title('TOP 20 MOST VALUABLE SOCCER TEAMS (2016)',size = float(25.0), fontweight = 'bold',fontname=\"Dejavu serif\", color= 'midnightblue')\n",
        "ax.set_ylabel(\"TOTAL VALUATION (IN U.S. DOLLARS)\", size = float(15.0), fontweight = 'bold',fontname=\"Dejavu sans\" , color= 'midnightblue')\n",
        "\n",
        "\n",
        "arr_lena1= plt.imread(f'/content/drive/MyDrive/logos/Real_Madrid.png')\n",
        "axin = ax.inset_axes([-0.125,0.96,0.1699,0.14], anchor='NE', zorder=1)  \n",
        "axin.imshow(arr_lena1)\n",
        "axin.axis('OFF')\n",
        "\n",
        "arr_lena2 = plt.imread(f\"/content/drive/MyDrive/logos/Barcelona.png\")\n",
        "axin = ax.inset_axes([0.00015,0.935,0.098,0.12], anchor='NE', zorder=1)    \n",
        "axin.imshow(arr_lena2)  \n",
        "axin.axis('OFF')\n",
        "\n",
        "arr_lena3 = plt.imread(f\"/content/drive/MyDrive/logos/ManchesterUnited.png\")\n",
        "axin = ax.inset_axes([0.05,0.875,0.099,0.13], anchor='NE', zorder=1)    \n",
        "axin.imshow(arr_lena3)\n",
        "axin.axis('OFF')\n",
        "\n",
        "arr_lena4 = plt.imread(f\"/content/drive/MyDrive/logos/BayrenMunich.png\")\n",
        "axin = ax.inset_axes([0.103,0.70,0.099,0.13], anchor='NE', zorder=1)\n",
        "axin.imshow(arr_lena4)\n",
        "axin.axis('OFF')\n",
        "\n",
        "\n",
        "arr_lena5 = plt.imread(f\"/content/drive/MyDrive/logos/Arsenal.png\")\n",
        "axin = ax.inset_axes([0.148,0.53,0.099,0.13], anchor='NE', zorder=1)    \n",
        "axin.imshow(arr_lena5)\n",
        "axin.axis('OFF')\n",
        "\n",
        "arr_lena6 = plt.imread(f\"/content/drive/MyDrive/logos/ManchesterCity (1).png\")\n",
        "axin = ax.inset_axes([0.195,0.5,0.099,0.13], anchor='NE', zorder=1)    \n",
        "axin.imshow(arr_lena6)\n",
        "axin.axis('OFF')\n",
        "\n",
        "arr_lena7 = plt.imread(f\"/content/drive/MyDrive/logos/Chelsea.png\")\n",
        "axin = ax.inset_axes([0.25,0.44,0.099,0.13], anchor='NE', zorder=1)    \n",
        "axin.imshow(arr_lena7)\n",
        "axin.axis('OFF')\n",
        "\n",
        "arr_lena8 = plt.imread(f\"/content/drive/MyDrive/logos/Liverpool.png\")\n",
        "axin = ax.inset_axes([0.31,0.41,0.099,0.14], anchor='NE', zorder=1)    \n",
        "axin.imshow(arr_lena8)\n",
        "axin.axis('OFF')\n",
        "\n",
        "arr_lena9 = plt.imread(f\"/content/drive/MyDrive/logos/Juventus.png\")\n",
        "axin = ax.inset_axes([0.343,0.34,0.099,0.16], anchor='NE', zorder=1)    \n",
        "axin.imshow(arr_lena9)\n",
        "axin.axis('OFF')\n",
        "\n",
        "arr_lena10 = plt.imread(f\"/content/drive/MyDrive/logos/TottenhamHotspur.png\")\n",
        "axin = ax.inset_axes([0.39,0.27,0.099,0.17], anchor='NE', zorder=1)    \n",
        "axin.imshow(arr_lena10)\n",
        "axin.axis('OFF')\n",
        "\n",
        "arr_lena11 = plt.imread(f\"/content/drive/MyDrive/logos/BorussiaDortmund.png\")\n",
        "axin = ax.inset_axes([0.447,0.22,0.099,0.13], anchor='NE', zorder=1)    \n",
        "axin.imshow(arr_lena11)\n",
        "axin.axis('OFF')\n",
        "\n",
        "arr_lena12 = plt.imread(f\"/content/drive/MyDrive/logos/ACMilan.png\")\n",
        "axin = ax.inset_axes([0.499,0.22,0.099,0.18], anchor='NE', zorder=1)    \n",
        "axin.imshow(arr_lena12)\n",
        "axin.axis('OFF')\n",
        "\n",
        "arr_lena13 = plt.imread(f\"/content/drive/MyDrive/logos/ParisSaintGerman.png\")\n",
        "axin = ax.inset_axes([0.55,0.216,0.099,0.13], anchor='NE', zorder=1)    \n",
        "axin.imshow(arr_lena13)\n",
        "axin.axis('OFF')\n",
        "\n",
        "arr_lena14 = plt.imread(f\"/content/drive/MyDrive/logos/Schalke04.png\")\n",
        "axin = ax.inset_axes([0.6,0.174,0.099,0.13], anchor='NE', zorder=1)    \n",
        "axin.imshow(arr_lena14)\n",
        "axin.axis('OFF')\n",
        "\n",
        "arr_lena15 = plt.imread(f\"/content/drive/MyDrive/logos/AtleticoMadrid.png\")\n",
        "axin = ax.inset_axes([0.65,0.17,0.099,0.13], anchor='NE', zorder=1)    \n",
        "axin.imshow(arr_lena15)\n",
        "axin.axis('OFF')\n",
        "\n",
        "arr_lena16 = plt.imread(f\"/content/drive/MyDrive/logos/Internazionale.png\")\n",
        "axin = ax.inset_axes([0.699,0.148,0.099,0.12], anchor='NE', zorder=1)    \n",
        "axin.imshow(arr_lena16)\n",
        "axin.axis('OFF')\n",
        "\n",
        "arr_lena17 = plt.imread(f\"/content/drive/MyDrive/logos/WestHamUnited.png\")\n",
        "axin = ax.inset_axes([0.744,0.146,0.099,0.11], anchor='NE', zorder=1)    \n",
        "axin.imshow(arr_lena17)\n",
        "axin.axis('OFF')\n",
        "\n",
        "arr_lena18 = plt.imread(f\"/content/drive/MyDrive/logos/Roma.png\")\n",
        "axin = ax.inset_axes([0.79,0.138,0.099,0.12], anchor='NE', zorder=1)    \n",
        "axin.imshow(arr_lena18)\n",
        "axin.axis('OFF')\n",
        "\n",
        "arr_lena19 = plt.imread(f\"/content/drive/MyDrive/logos/Napoli.png\")\n",
        "axin = ax.inset_axes([0.85,0.11,0.099,0.12], anchor='NE', zorder=1)    \n",
        "axin.imshow(arr_lena19)\n",
        "axin.axis('OFF')\n",
        "\n",
        "arr_lena20 = plt.imread(f\"/content/drive/MyDrive/logos/NewcastleUnitedlogo.png\")\n",
        "axin = ax.inset_axes([0.899,0.1,0.099,0.12], anchor='NE', zorder=1)    \n",
        "axin.imshow(arr_lena20)\n",
        "axin.axis('OFF')\n",
        "\n",
        "ax.text(18, -1700, \"Forbes\", size = float(32.0), fontweight = 'bold',fontname=\"Dejavu serif\",  color= 'midnightblue',) \n",
        "\n",
        "ax.set(xlabel=None)\n",
        "sns.despine()\n",
        "plt.show()"
      ],
      "metadata": {
        "id": "6mJPOdjUNDmc"
      },
      "execution_count": null,
      "outputs": []
    },
    {
      "cell_type": "markdown",
      "source": [
        "When I was playing with the colors, one thing I have just noticed that in my y_label, I am still missing **4 billion dollars** which I will need to fix. Therefore, I am going to change my y limit up to **4 billion dollars**. "
      ],
      "metadata": {
        "id": "tmM4WbPf_av2"
      }
    },
    {
      "cell_type": "code",
      "source": [
        "plt.rcParams[\"figure.figsize\"] = [15, 8]\n",
        "plt.rcParams[\"figure.autolayout\"] = True\n",
        "sns.set_style('whitegrid')\n",
        "ax = sns.barplot(data = df, x = 'Team', y= \"Value\", color= 'midnightblue', ci= None, linewidth = 1)\n",
        "ax.set_xticklabels(ax.get_xticklabels(),rotation = 45, fontweight = 'bold', size = float(17.0),fontname=\"Dejavu serif\",color = 'midnightblue', ha=\"right\", rotation_mode=\"anchor\")\n",
        "ax.set_ylim(0, 4000)\n",
        "ylabels = ['0','$500M' , '$1B', '$1.5B', '$2B', '$2.5B', '$3B', '$3.5B', '$4B']\n",
        "ax.set_yticklabels(ylabels, size = float(17.0), fontweight = 'bold', color = 'midnightblue', rotation_mode=\"anchor\")\n",
        "ax.set_title('TOP 20 MOST VALUABLE SOCCER TEAMS (2016)',size = float(25.0), fontweight = 'bold',fontname=\"Dejavu serif\", color= 'midnightblue')\n",
        "ax.set_ylabel(\"TOTAL VALUATION (IN U.S. DOLLARS)\", size = float(15.0), fontweight = 'bold',fontname=\"Dejavu sans\" , color= 'midnightblue')\n",
        "\n",
        "\n",
        "arr_lena1= plt.imread(f'/content/drive/MyDrive/logos/Real_Madrid.png')\n",
        "axin = ax.inset_axes([-0.125,0.96,0.1699,0.14], anchor='NE', zorder=1)  \n",
        "axin.imshow(arr_lena1)\n",
        "axin.axis('OFF')\n",
        "\n",
        "arr_lena2 = plt.imread(f\"/content/drive/MyDrive/logos/Barcelona.png\")\n",
        "axin = ax.inset_axes([0.00015,0.935,0.098,0.12], anchor='NE', zorder=1)    \n",
        "axin.imshow(arr_lena2)  \n",
        "axin.axis('OFF')\n",
        "\n",
        "arr_lena3 = plt.imread(f\"/content/drive/MyDrive/logos/ManchesterUnited.png\")\n",
        "axin = ax.inset_axes([0.05,0.875,0.099,0.13], anchor='NE', zorder=1)    \n",
        "axin.imshow(arr_lena3)\n",
        "axin.axis('OFF')\n",
        "\n",
        "arr_lena4 = plt.imread(f\"/content/drive/MyDrive/logos/BayrenMunich.png\")\n",
        "axin = ax.inset_axes([0.103,0.70,0.099,0.13], anchor='NE', zorder=1)\n",
        "axin.imshow(arr_lena4)\n",
        "axin.axis('OFF')\n",
        "\n",
        "\n",
        "arr_lena5 = plt.imread(f\"/content/drive/MyDrive/logos/Arsenal.png\")\n",
        "axin = ax.inset_axes([0.148,0.53,0.099,0.13], anchor='NE', zorder=1)    \n",
        "axin.imshow(arr_lena5)\n",
        "axin.axis('OFF')\n",
        "\n",
        "arr_lena6 = plt.imread(f\"/content/drive/MyDrive/logos/ManchesterCity (1).png\")\n",
        "axin = ax.inset_axes([0.195,0.5,0.099,0.13], anchor='NE', zorder=1)    \n",
        "axin.imshow(arr_lena6)\n",
        "axin.axis('OFF')\n",
        "\n",
        "arr_lena7 = plt.imread(f\"/content/drive/MyDrive/logos/Chelsea.png\")\n",
        "axin = ax.inset_axes([0.25,0.44,0.099,0.13], anchor='NE', zorder=1)    \n",
        "axin.imshow(arr_lena7)\n",
        "axin.axis('OFF')\n",
        "\n",
        "arr_lena8 = plt.imread(f\"/content/drive/MyDrive/logos/Liverpool.png\")\n",
        "axin = ax.inset_axes([0.31,0.41,0.099,0.14], anchor='NE', zorder=1)    \n",
        "axin.imshow(arr_lena8)\n",
        "axin.axis('OFF')\n",
        "\n",
        "arr_lena9 = plt.imread(f\"/content/drive/MyDrive/logos/Juventus.png\")\n",
        "axin = ax.inset_axes([0.343,0.34,0.099,0.16], anchor='NE', zorder=1)    \n",
        "axin.imshow(arr_lena9)\n",
        "axin.axis('OFF')\n",
        "\n",
        "arr_lena10 = plt.imread(f\"/content/drive/MyDrive/logos/TottenhamHotspur.png\")\n",
        "axin = ax.inset_axes([0.39,0.27,0.099,0.17], anchor='NE', zorder=1)    \n",
        "axin.imshow(arr_lena10)\n",
        "axin.axis('OFF')\n",
        "\n",
        "arr_lena11 = plt.imread(f\"/content/drive/MyDrive/logos/BorussiaDortmund.png\")\n",
        "axin = ax.inset_axes([0.447,0.22,0.099,0.13], anchor='NE', zorder=1)    \n",
        "axin.imshow(arr_lena11)\n",
        "axin.axis('OFF')\n",
        "\n",
        "arr_lena12 = plt.imread(f\"/content/drive/MyDrive/logos/ACMilan.png\")\n",
        "axin = ax.inset_axes([0.499,0.22,0.099,0.18], anchor='NE', zorder=1)    \n",
        "axin.imshow(arr_lena12)\n",
        "axin.axis('OFF')\n",
        "\n",
        "arr_lena13 = plt.imread(f\"/content/drive/MyDrive/logos/ParisSaintGerman.png\")\n",
        "axin = ax.inset_axes([0.55,0.216,0.099,0.13], anchor='NE', zorder=1)    \n",
        "axin.imshow(arr_lena13)\n",
        "axin.axis('OFF')\n",
        "\n",
        "arr_lena14 = plt.imread(f\"/content/drive/MyDrive/logos/Schalke04.png\")\n",
        "axin = ax.inset_axes([0.6,0.174,0.099,0.13], anchor='NE', zorder=1)    \n",
        "axin.imshow(arr_lena14)\n",
        "axin.axis('OFF')\n",
        "\n",
        "arr_lena15 = plt.imread(f\"/content/drive/MyDrive/logos/AtleticoMadrid.png\")\n",
        "axin = ax.inset_axes([0.65,0.17,0.099,0.13], anchor='NE', zorder=1)    \n",
        "axin.imshow(arr_lena15)\n",
        "axin.axis('OFF')\n",
        "\n",
        "arr_lena16 = plt.imread(f\"/content/drive/MyDrive/logos/Internazionale.png\")\n",
        "axin = ax.inset_axes([0.699,0.148,0.099,0.12], anchor='NE', zorder=1)    \n",
        "axin.imshow(arr_lena16)\n",
        "axin.axis('OFF')\n",
        "\n",
        "arr_lena17 = plt.imread(f\"/content/drive/MyDrive/logos/WestHamUnited.png\")\n",
        "axin = ax.inset_axes([0.744,0.146,0.099,0.11], anchor='NE', zorder=1)    \n",
        "axin.imshow(arr_lena17)\n",
        "axin.axis('OFF')\n",
        "\n",
        "arr_lena18 = plt.imread(f\"/content/drive/MyDrive/logos/Roma.png\")\n",
        "axin = ax.inset_axes([0.79,0.138,0.099,0.12], anchor='NE', zorder=1)    \n",
        "axin.imshow(arr_lena18)\n",
        "axin.axis('OFF')\n",
        "\n",
        "arr_lena19 = plt.imread(f\"/content/drive/MyDrive/logos/Napoli.png\")\n",
        "axin = ax.inset_axes([0.85,0.11,0.099,0.12], anchor='NE', zorder=1)    \n",
        "axin.imshow(arr_lena19)\n",
        "axin.axis('OFF')\n",
        "\n",
        "arr_lena20 = plt.imread(f\"/content/drive/MyDrive/logos/NewcastleUnitedlogo.png\")\n",
        "axin = ax.inset_axes([0.899,0.1,0.099,0.12], anchor='NE', zorder=1)    \n",
        "axin.imshow(arr_lena20)\n",
        "axin.axis('OFF')\n",
        "\n",
        "ax.text(18, -1700, \"Forbes\", size = float(32.0), fontweight = 'bold',fontname=\"Dejavu serif\",  color= 'midnightblue',) \n",
        "\n",
        "ax.set(xlabel=None)\n",
        "sns.despine()\n",
        "plt.show()"
      ],
      "metadata": {
        "id": "JnpRzYou_62t"
      },
      "execution_count": null,
      "outputs": []
    },
    {
      "cell_type": "markdown",
      "source": [
        "I think this graph is little way too dark therefore, I am going to try to use different color. "
      ],
      "metadata": {
        "id": "v9AcuK8YA6vh"
      }
    },
    {
      "cell_type": "markdown",
      "source": [
        "#Logo Shifted Upward\n",
        "Also, right after changing the **y_label** all the logo shifted upward. I will need to fix that again, for that I will I need to change **axin** for each logo. "
      ],
      "metadata": {
        "id": "IJQa29EEFlGL"
      }
    },
    {
      "cell_type": "code",
      "source": [
        "plt.rcParams[\"figure.figsize\"] = [15, 8]\n",
        "plt.rcParams[\"figure.autolayout\"] = True\n",
        "sns.set_style('whitegrid')\n",
        "ax = sns.barplot(data = df, x = 'Team', y= \"Value\", color= 'slateblue', ci= None, linewidth = 1)\n",
        "ax.set_xticklabels(ax.get_xticklabels(),rotation = 45, fontweight = 'bold', size = float(17.0),fontname=\"Dejavu serif\",color = 'slateblue', ha=\"right\", rotation_mode=\"anchor\")\n",
        "ax.set_ylim(0, 4000)\n",
        "ylabels = ['0','$500M' , '$1B', '$1.5B', '$2B', '$2.5B', '$3B', '$3.5B', '$4B']\n",
        "ax.set_yticklabels(ylabels, size = float(17.0), fontweight = 'bold', color = 'slateblue', rotation_mode=\"anchor\")\n",
        "ax.set_title('TOP 20 MOST VALUABLE SOCCER TEAMS (2016)',size = float(25.0), fontweight = 'bold',fontname=\"Dejavu serif\", color= 'slateblue')\n",
        "ax.set_ylabel(\"TOTAL VALUATION (IN U.S. DOLLARS)\", size = float(15.0), fontweight = 'bold',fontname=\"Dejavu sans\" , color= 'slateblue')\n",
        "\n",
        "\n",
        "arr_lena1= plt.imread(f'/content/drive/MyDrive/logos/Real_Madrid.png')\n",
        "axin = ax.inset_axes([-0.125,0.96,0.1699,0.14], anchor='NE', zorder=1)  \n",
        "axin.imshow(arr_lena1)\n",
        "axin.axis('OFF')\n",
        "\n",
        "arr_lena2 = plt.imread(f\"/content/drive/MyDrive/logos/Barcelona.png\")\n",
        "axin = ax.inset_axes([0.00015,0.935,0.098,0.12], anchor='NE', zorder=1)    \n",
        "axin.imshow(arr_lena2)  \n",
        "axin.axis('OFF')\n",
        "\n",
        "arr_lena3 = plt.imread(f\"/content/drive/MyDrive/logos/ManchesterUnited.png\")\n",
        "axin = ax.inset_axes([0.05,0.875,0.099,0.13], anchor='NE', zorder=1)    \n",
        "axin.imshow(arr_lena3)\n",
        "axin.axis('OFF')\n",
        "\n",
        "arr_lena4 = plt.imread(f\"/content/drive/MyDrive/logos/BayrenMunich.png\")\n",
        "axin = ax.inset_axes([0.103,0.70,0.099,0.13], anchor='NE', zorder=1)\n",
        "axin.imshow(arr_lena4)\n",
        "axin.axis('OFF')\n",
        "\n",
        "\n",
        "arr_lena5 = plt.imread(f\"/content/drive/MyDrive/logos/Arsenal.png\")\n",
        "axin = ax.inset_axes([0.148,0.53,0.099,0.13], anchor='NE', zorder=1)    \n",
        "axin.imshow(arr_lena5)\n",
        "axin.axis('OFF')\n",
        "\n",
        "arr_lena6 = plt.imread(f\"/content/drive/MyDrive/logos/ManchesterCity (1).png\")\n",
        "axin = ax.inset_axes([0.195,0.5,0.099,0.13], anchor='NE', zorder=1)    \n",
        "axin.imshow(arr_lena6)\n",
        "axin.axis('OFF')\n",
        "\n",
        "arr_lena7 = plt.imread(f\"/content/drive/MyDrive/logos/Chelsea.png\")\n",
        "axin = ax.inset_axes([0.25,0.44,0.099,0.13], anchor='NE', zorder=1)    \n",
        "axin.imshow(arr_lena7)\n",
        "axin.axis('OFF')\n",
        "\n",
        "arr_lena8 = plt.imread(f\"/content/drive/MyDrive/logos/Liverpool.png\")\n",
        "axin = ax.inset_axes([0.31,0.41,0.099,0.14], anchor='NE', zorder=1)    \n",
        "axin.imshow(arr_lena8)\n",
        "axin.axis('OFF')\n",
        "\n",
        "arr_lena9 = plt.imread(f\"/content/drive/MyDrive/logos/Juventus.png\")\n",
        "axin = ax.inset_axes([0.343,0.34,0.099,0.16], anchor='NE', zorder=1)    \n",
        "axin.imshow(arr_lena9)\n",
        "axin.axis('OFF')\n",
        "\n",
        "arr_lena10 = plt.imread(f\"/content/drive/MyDrive/logos/TottenhamHotspur.png\")\n",
        "axin = ax.inset_axes([0.39,0.27,0.099,0.17], anchor='NE', zorder=1)    \n",
        "axin.imshow(arr_lena10)\n",
        "axin.axis('OFF')\n",
        "\n",
        "arr_lena11 = plt.imread(f\"/content/drive/MyDrive/logos/BorussiaDortmund.png\")\n",
        "axin = ax.inset_axes([0.447,0.22,0.099,0.13], anchor='NE', zorder=1)    \n",
        "axin.imshow(arr_lena11)\n",
        "axin.axis('OFF')\n",
        "\n",
        "arr_lena12 = plt.imread(f\"/content/drive/MyDrive/logos/ACMilan.png\")\n",
        "axin = ax.inset_axes([0.499,0.22,0.099,0.18], anchor='NE', zorder=1)    \n",
        "axin.imshow(arr_lena12)\n",
        "axin.axis('OFF')\n",
        "\n",
        "arr_lena13 = plt.imread(f\"/content/drive/MyDrive/logos/ParisSaintGerman.png\")\n",
        "axin = ax.inset_axes([0.55,0.216,0.099,0.13], anchor='NE', zorder=1)    \n",
        "axin.imshow(arr_lena13)\n",
        "axin.axis('OFF')\n",
        "\n",
        "arr_lena14 = plt.imread(f\"/content/drive/MyDrive/logos/Schalke04.png\")\n",
        "axin = ax.inset_axes([0.6,0.174,0.099,0.13], anchor='NE', zorder=1)    \n",
        "axin.imshow(arr_lena14)\n",
        "axin.axis('OFF')\n",
        "\n",
        "arr_lena15 = plt.imread(f\"/content/drive/MyDrive/logos/AtleticoMadrid.png\")\n",
        "axin = ax.inset_axes([0.65,0.17,0.099,0.13], anchor='NE', zorder=1)    \n",
        "axin.imshow(arr_lena15)\n",
        "axin.axis('OFF')\n",
        "\n",
        "arr_lena16 = plt.imread(f\"/content/drive/MyDrive/logos/Internazionale.png\")\n",
        "axin = ax.inset_axes([0.699,0.148,0.099,0.12], anchor='NE', zorder=1)    \n",
        "axin.imshow(arr_lena16)\n",
        "axin.axis('OFF')\n",
        "\n",
        "arr_lena17 = plt.imread(f\"/content/drive/MyDrive/logos/WestHamUnited.png\")\n",
        "axin = ax.inset_axes([0.744,0.146,0.099,0.11], anchor='NE', zorder=1)    \n",
        "axin.imshow(arr_lena17)\n",
        "axin.axis('OFF')\n",
        "\n",
        "arr_lena18 = plt.imread(f\"/content/drive/MyDrive/logos/Roma.png\")\n",
        "axin = ax.inset_axes([0.79,0.138,0.099,0.12], anchor='NE', zorder=1)    \n",
        "axin.imshow(arr_lena18)\n",
        "axin.axis('OFF')\n",
        "\n",
        "arr_lena19 = plt.imread(f\"/content/drive/MyDrive/logos/Napoli.png\")\n",
        "axin = ax.inset_axes([0.85,0.11,0.099,0.12], anchor='NE', zorder=1)    \n",
        "axin.imshow(arr_lena19)\n",
        "axin.axis('OFF')\n",
        "\n",
        "arr_lena20 = plt.imread(f\"/content/drive/MyDrive/logos/NewcastleUnitedlogo.png\")\n",
        "axin = ax.inset_axes([0.899,0.1,0.099,0.12], anchor='NE', zorder=1)    \n",
        "axin.imshow(arr_lena20)\n",
        "axin.axis('OFF')\n",
        "\n",
        "ax.text(18, -1700, \"Forbes\", size = float(32.0), fontweight = 'bold',fontname=\"Dejavu serif\",  color= 'slateblue',) \n",
        "\n",
        "ax.set(xlabel=None)\n",
        "sns.despine()\n",
        "plt.show()"
      ],
      "metadata": {
        "id": "3Lvo2VB4A5K6"
      },
      "execution_count": null,
      "outputs": []
    },
    {
      "cell_type": "code",
      "source": [
        "plt.rcParams[\"figure.figsize\"] = [15, 8]\n",
        "plt.rcParams[\"figure.autolayout\"] = True\n",
        "sns.set_style('whitegrid')\n",
        "ax = sns.barplot(data = df, x = 'Team', y= \"Value\", color= 'darkslateblue', ci= None, linewidth = 1)\n",
        "ax.set_xticklabels(ax.get_xticklabels(),rotation = 45, fontweight = 'bold', size = float(17.0),fontname=\"Dejavu serif\",color = 'darkslateblue', ha=\"right\", rotation_mode=\"anchor\")\n",
        "ax.set_ylim(0, 4000)\n",
        "ylabels = ['0','$500M' , '$1B', '$1.5B', '$2B', '$2.5B', '$3B', '$3.5B', '$4B']\n",
        "ax.set_yticklabels(ylabels, size = float(17.0), fontweight = 'bold', color = 'darkslateblue', rotation_mode=\"anchor\")\n",
        "ax.set_title('TOP 20 MOST VALUABLE SOCCER TEAMS (2016)',size = float(25.0), fontweight = 'bold',fontname=\"Dejavu serif\", color= 'darkslateblue')\n",
        "ax.set_ylabel(\"TOTAL VALUATION (IN U.S. DOLLARS)\", size = float(15.0), fontweight = 'bold',fontname=\"Dejavu sans\" , color= 'darkslateblue')\n",
        "\n",
        "\n",
        "arr_lena1= plt.imread(f'/content/drive/MyDrive/logos/Real_Madrid.png')\n",
        "axin = ax.inset_axes([-0.125,0.91,0.1699,0.14], anchor='NE', zorder=1)  \n",
        "axin.imshow(arr_lena1)\n",
        "axin.axis('OFF')\n",
        "\n",
        "arr_lena2 = plt.imread(f\"/content/drive/MyDrive/logos/Barcelona.png\")\n",
        "axin = ax.inset_axes([0.00015,0.885,0.098,0.12], anchor='NE', zorder=1)    \n",
        "axin.imshow(arr_lena2)  \n",
        "axin.axis('OFF')\n",
        "\n",
        "arr_lena3 = plt.imread(f\"/content/drive/MyDrive/logos/ManchesterUnited.png\")\n",
        "axin = ax.inset_axes([0.05,0.83,0.099,0.13], anchor='NE', zorder=1)    \n",
        "axin.imshow(arr_lena3)\n",
        "axin.axis('OFF')\n",
        "\n",
        "arr_lena4 = plt.imread(f\"/content/drive/MyDrive/logos/BayrenMunich.png\")\n",
        "axin = ax.inset_axes([0.103,0.67,0.099,0.13], anchor='NE', zorder=1)\n",
        "axin.imshow(arr_lena4)\n",
        "axin.axis('OFF')\n",
        "\n",
        "\n",
        "arr_lena5 = plt.imread(f\"/content/drive/MyDrive/logos/Arsenal.png\")\n",
        "axin = ax.inset_axes([0.148,0.51,0.099,0.13], anchor='NE', zorder=1)    \n",
        "axin.imshow(arr_lena5)\n",
        "axin.axis('OFF')\n",
        "\n",
        "arr_lena6 = plt.imread(f\"/content/drive/MyDrive/logos/ManchesterCity (1).png\")\n",
        "axin = ax.inset_axes([0.195,0.49,0.099,0.13], anchor='NE', zorder=1)    \n",
        "axin.imshow(arr_lena6)\n",
        "axin.axis('OFF')\n",
        "\n",
        "arr_lena7 = plt.imread(f\"/content/drive/MyDrive/logos/Chelsea.png\")\n",
        "axin = ax.inset_axes([0.25,0.42,0.099,0.13], anchor='NE', zorder=1)    \n",
        "axin.imshow(arr_lena7)\n",
        "axin.axis('OFF')\n",
        "\n",
        "arr_lena8 = plt.imread(f\"/content/drive/MyDrive/logos/Liverpool.png\")\n",
        "axin = ax.inset_axes([0.31,0.39,0.099,0.14], anchor='NE', zorder=1)    \n",
        "axin.imshow(arr_lena8)\n",
        "axin.axis('OFF')\n",
        "\n",
        "arr_lena9 = plt.imread(f\"/content/drive/MyDrive/logos/Juventus.png\")\n",
        "axin = ax.inset_axes([0.343,0.32,0.099,0.16], anchor='NE', zorder=1)    \n",
        "axin.imshow(arr_lena9)\n",
        "axin.axis('OFF')\n",
        "\n",
        "arr_lena10 = plt.imread(f\"/content/drive/MyDrive/logos/TottenhamHotspur.png\")\n",
        "axin = ax.inset_axes([0.39,0.26,0.099,0.17], anchor='NE', zorder=1)    \n",
        "axin.imshow(arr_lena10)\n",
        "axin.axis('OFF')\n",
        "\n",
        "arr_lena11 = plt.imread(f\"/content/drive/MyDrive/logos/BorussiaDortmund.png\")\n",
        "axin = ax.inset_axes([0.447,0.21,0.099,0.13], anchor='NE', zorder=1)    \n",
        "axin.imshow(arr_lena11)\n",
        "axin.axis('OFF')\n",
        "\n",
        "arr_lena12 = plt.imread(f\"/content/drive/MyDrive/logos/ACMilan.png\")\n",
        "axin = ax.inset_axes([0.499,0.21,0.099,0.18], anchor='NE', zorder=1)    \n",
        "axin.imshow(arr_lena12)\n",
        "axin.axis('OFF')\n",
        "\n",
        "arr_lena13 = plt.imread(f\"/content/drive/MyDrive/logos/ParisSaintGerman.png\")\n",
        "axin = ax.inset_axes([0.55,0.206,0.099,0.13], anchor='NE', zorder=1)    \n",
        "axin.imshow(arr_lena13)\n",
        "axin.axis('OFF')\n",
        "\n",
        "arr_lena14 = plt.imread(f\"/content/drive/MyDrive/logos/Schalke04.png\")\n",
        "axin = ax.inset_axes([0.6,0.168,0.099,0.13], anchor='NE', zorder=1)    \n",
        "axin.imshow(arr_lena14)\n",
        "axin.axis('OFF')\n",
        "\n",
        "arr_lena15 = plt.imread(f\"/content/drive/MyDrive/logos/AtleticoMadrid.png\")\n",
        "axin = ax.inset_axes([0.65,0.165,0.099,0.13], anchor='NE', zorder=1)    \n",
        "axin.imshow(arr_lena15)\n",
        "axin.axis('OFF')\n",
        "\n",
        "arr_lena16 = plt.imread(f\"/content/drive/MyDrive/logos/Internazionale.png\")\n",
        "axin = ax.inset_axes([0.695,0.148,0.099,0.12], anchor='NE', zorder=1)    \n",
        "axin.imshow(arr_lena16)\n",
        "axin.axis('OFF')\n",
        "\n",
        "arr_lena17 = plt.imread(f\"/content/drive/MyDrive/logos/WestHamUnited.png\")\n",
        "axin = ax.inset_axes([0.744,0.14,0.099,0.11], anchor='NE', zorder=1)    \n",
        "axin.imshow(arr_lena17)\n",
        "axin.axis('OFF')\n",
        "\n",
        "arr_lena18 = plt.imread(f\"/content/drive/MyDrive/logos/Roma.png\")\n",
        "axin = ax.inset_axes([0.79,0.13,0.099,0.12], anchor='NE', zorder=1)    \n",
        "axin.imshow(arr_lena18)\n",
        "axin.axis('OFF')\n",
        "\n",
        "arr_lena19 = plt.imread(f\"/content/drive/MyDrive/logos/Napoli.png\")\n",
        "axin = ax.inset_axes([0.85,0.106,0.099,0.12], anchor='NE', zorder=1)    \n",
        "axin.imshow(arr_lena19)\n",
        "axin.axis('OFF')\n",
        "\n",
        "arr_lena20 = plt.imread(f\"/content/drive/MyDrive/logos/NewcastleUnitedlogo.png\")\n",
        "axin = ax.inset_axes([0.899,0.1,0.099,0.12], anchor='NE', zorder=1)    \n",
        "axin.imshow(arr_lena20)\n",
        "axin.axis('OFF')\n",
        "\n",
        "ax.text(18, -1700, \"Forbes\", size = float(32.0), fontweight = 'bold',fontname=\"Dejavu serif\",  color= 'darkslateblue',) \n",
        "\n",
        "ax.set(xlabel=None)\n",
        "sns.despine()\n",
        "plt.show()"
      ],
      "metadata": {
        "id": "FCKiAWvyC4eM"
      },
      "execution_count": null,
      "outputs": []
    },
    {
      "cell_type": "markdown",
      "source": [
        "Well, this color is really nice and I believe it fits my graph perfectly. I could not make exactly the same graph because I did not have data for **Brand**, **Commercial**, **Broad Casting**, **Match Day**. However, If I find the data in future then I could use **hue** and **hue_order** to maniulate color. "
      ],
      "metadata": {
        "id": "fmMln9yiB9SH"
      }
    }
  ]
}